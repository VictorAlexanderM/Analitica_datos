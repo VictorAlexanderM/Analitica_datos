{
 "cells": [
  {
   "cell_type": "markdown",
   "metadata": {},
   "source": [
    "#**Data analysis Domestic violence**\n",
    "-----------------------\n",
    "##This notebook analyzes business crises, emergency situations in a context of domestic violence."
   ]
  },
  {
   "cell_type": "markdown",
   "metadata": {},
   "source": [
    "-----------------------\n",
    "#####**objetive**\n",
    "\n",
    "Apply concepts of probability distributions to model certain aspects of the crisis. For example, modeling the distribution of financial losses. Luego, use statistical inference techniques to draw conclusions about the crisis.\n",
    "\n",
    "#####**DataSets**\n",
    "\n",
    "- Reporte Delito Violencia Intrafamiliar Policía Nacional | Datos Abiertos Colombia\n",
    "    https://www.datos.gov.co/Seguridad-y-Defensa/Reporte-Delito-Violencia-Intrafamiliar-Polic-a-Nac/vuyt-mqpw/about_data\n",
    "\n",
    "- Tasa de Violencia intrafamiliar en Bogotá D.C.\n",
    "    https://datosabiertos.bogota.gov.co/dataset/numero-de-casos-de-violencia-intrafamiliar\n",
    "\n",
    "- \n",
    "\n",
    "#####**Importing necessary libraries**"
   ]
  },
  {
   "cell_type": "code",
   "execution_count": null,
   "metadata": {},
   "outputs": [],
   "source": [
    "import pandas as pd\n",
    "import numpy as np\n",
    "import matplotlib.pyplot as plt\n",
    "from seaborn import heatmap, set_theme \n",
    "from scipy import stats\n",
    "import seaborn as sns # Visualización de datos en conjunto con matplotlib\n",
    "import plotly.express as px\n",
    "import os"
   ]
  },
  {
   "cell_type": "code",
   "execution_count": 1130,
   "metadata": {},
   "outputs": [],
   "source": [
    "#variables\n",
    "report = r'Files\\violencia_intrafamiliar.csv'\n",
    "meses = ['Enero', 'Febrero', 'Marzo', 'Abril', 'Mayo', 'Junio', 'Julio', 'Agosto', 'Septiembre', 'Octubre', 'Noviembre', 'Diciembre']\n",
    "color_map = {'MASCULINO': 'blue', 'FEMENINO': 'red', 'NO REPORTA': 'green'}\n",
    "# Graph Colors\n",
    "colores = {\n",
    "    'Mujeres': 'red',\n",
    "    'Hombres': 'blue',\n",
    "    'No Reportado': 'green'\n",
    "}\n",
    "# Configuración de Temas y Estilos\n",
    "set_theme(style=\"ticks\", context=\"talk\", palette=\"tab10\")\n",
    "plt.rcParams.update({'font.size': 12})"
   ]
  },
  {
   "cell_type": "code",
   "execution_count": 1131,
   "metadata": {},
   "outputs": [
    {
     "name": "stdout",
     "output_type": "stream",
     "text": [
      "c:\\Users\\ALEXANDER\\Documents\\Especializacion\\Tratamiento_y_analitica_datos\\Tarea1\\Codigo\\Analitica_datos\\Files\\violencia_intrafamiliar.csv\n",
      "Data Violencia Domestica Colombia\n",
      "DEPARTAMENTO    object\n",
      "MUNICIPIO       object\n",
      "CODIGO DANE     object\n",
      "ARMAS MEDIOS    object\n",
      "FECHA HECHO     object\n",
      "GENERO          object\n",
      "GRUPO ETARIO    object\n",
      "CANTIDAD         int64\n",
      "dtype: object\n"
     ]
    },
    {
     "name": "stderr",
     "output_type": "stream",
     "text": [
      "C:\\Users\\ALEXANDER\\AppData\\Local\\Temp\\ipykernel_14676\\3850158783.py:2: DtypeWarning:\n",
      "\n",
      "Columns (2) have mixed types. Specify dtype option on import or set low_memory=False.\n",
      "\n"
     ]
    }
   ],
   "source": [
    "# Data reading\n",
    "df = pd.read_csv(report,sep=',')\n",
    "ruta_absoluta = os.path.abspath(report)\n",
    "print(ruta_absoluta)\n",
    "print(\"Data Violencia Domestica Colombia\")\n",
    "print(df.dtypes)"
   ]
  },
  {
   "cell_type": "code",
   "execution_count": 1132,
   "metadata": {},
   "outputs": [
    {
     "name": "stdout",
     "output_type": "stream",
     "text": [
      "   DEPARTAMENTO          MUNICIPIO                 ARMAS MEDIOS FECHA HECHO  \\\n",
      "0     ATLÁNTICO  BARRANQUILLA (CT)  ARMA BLANCA / CORTOPUNZANTE   1/01/2010   \n",
      "1        BOYACÁ            DUITAMA  ARMA BLANCA / CORTOPUNZANTE   1/01/2010   \n",
      "2       CAQUETÁ        PUERTO RICO  ARMA BLANCA / CORTOPUNZANTE   1/01/2010   \n",
      "3      CASANARE               MANÍ  ARMA BLANCA / CORTOPUNZANTE   1/01/2010   \n",
      "4  CUNDINAMARCA   BOGOTÁ D.C. (CT)  ARMA BLANCA / CORTOPUNZANTE   1/01/2010   \n",
      "\n",
      "      GENERO GRUPO ETARIO  CANTIDAD  \n",
      "0  MASCULINO      ADULTOS         1  \n",
      "1   FEMENINO      ADULTOS         1  \n",
      "2  MASCULINO      ADULTOS         1  \n",
      "3   FEMENINO      ADULTOS         1  \n",
      "4   FEMENINO      ADULTOS         1  \n"
     ]
    }
   ],
   "source": [
    "# Eliminamos Codigo Dane de la Base ya que no lo necesitamos\n",
    "df =df.drop('CODIGO DANE',axis=1).copy() \n",
    "print(df.head(5))"
   ]
  },
  {
   "cell_type": "code",
   "execution_count": 1133,
   "metadata": {},
   "outputs": [
    {
     "name": "stdout",
     "output_type": "stream",
     "text": [
      "DEPARTAMENTO    0.000000\n",
      "MUNICIPIO       0.000000\n",
      "ARMAS MEDIOS    0.000000\n",
      "FECHA HECHO     0.000000\n",
      "GENERO          0.000000\n",
      "GRUPO ETARIO    0.240257\n",
      "CANTIDAD        0.000000\n",
      "dtype: float64\n",
      "\n",
      "DEPARTAMENTO       0\n",
      "MUNICIPIO          0\n",
      "ARMAS MEDIOS       0\n",
      "FECHA HECHO        0\n",
      "GENERO             0\n",
      "GRUPO ETARIO    1611\n",
      "CANTIDAD           0\n",
      "dtype: int64\n"
     ]
    }
   ],
   "source": [
    "# Identify null values\n",
    "info_vacia = df.isnull().sum() * 100 / df.shape[0]\n",
    "\n",
    "# porcentaje y  cantidad total de valores nulos\n",
    "print(f'{info_vacia}\\n\\n{df.isnull().sum()}')\n"
   ]
  },
  {
   "cell_type": "code",
   "execution_count": 1134,
   "metadata": {},
   "outputs": [],
   "source": [
    "#Normalizing Data\n",
    "df['GENERO']=df['GENERO'].astype(str)\n",
    "df['GRUPO ETARIO']=df['GRUPO ETARIO'].astype(str)\n",
    "df['ARMAS MEDIOS']=df['ARMAS MEDIOS'].astype(str)\n",
    "df['CANTIDAD']=pd.to_numeric(df['CANTIDAD'],errors='coerce')\n",
    "df['FECHA HECHO'] = pd.to_datetime(df['FECHA HECHO'], dayfirst=True, errors='coerce')\n",
    "df['AÑO'] = df['FECHA HECHO'].dt.year\n",
    "# Cambio de genero - No reporta\n",
    "df['GENERO'] = df['GENERO'].replace('NO REPORTADO', 'NO REPORTA')\n",
    "\n",
    "# Cambio de Grupo Etario - No Reporta\n",
    "df['GRUPO ETARIO'] = df['GRUPO ETARIO'].replace('NO REPORTADO', 'NO REPORTA')\n",
    "\n",
    "# Cambio de tipo de Arma - Segun codigo penal\n",
    "df['ARMAS MEDIOS'] = df['ARMAS MEDIOS'].replace({'ARMA BLANCA / CORTOPUNZANTE':'ARMA BLANCA','-':'NO REPORTA','NO REPORTADO':'NO REPORTA','CORTOPUNZANTES':'ARMA BLANCA','CORTANTES':'ARMA BLANCA','CONTUNDENTES':'ARMA BLANCA','PUNZANTES':'ARMA BLANCA'})\n",
    "\n",
    "# Convertir la columna 'FECHA HECHO' a formato datetime\n",
    "df['FECHA HECHO'] = pd.to_datetime(df['FECHA HECHO'])\n",
    "\n",
    "# Crear columnas con el nombre del día y el mes\n",
    "df['DIA'] = df['FECHA HECHO'].dt.day_name()\n",
    "df['MES'] = df['FECHA HECHO'].dt.month_name()\n",
    "\n",
    "#Eliminación de valores nulos de la columna Grupo Etario\n",
    "df = df[~df['GRUPO ETARIO'].isnull()]\n",
    "df = df.loc[:, ~df.columns.duplicated()].copy()"
   ]
  },
  {
   "cell_type": "code",
   "execution_count": 1135,
   "metadata": {},
   "outputs": [
    {
     "name": "stdout",
     "output_type": "stream",
     "text": [
      "['MASCULINO' 'FEMENINO' 'NO REPORTA' '-']\n",
      "['ADULTOS' 'ADOLESCENTES' 'MENORES' 'NO REPORTA' 'nan']\n",
      "['ARMA BLANCA' 'ARMA DE FUEGO' 'NO REPORTA' 'SIN EMPLEO DE ARMAS'\n",
      " 'ESCOPOLAMINA']\n"
     ]
    }
   ],
   "source": [
    "print(df['GENERO'].unique())\n",
    "print(df['GRUPO ETARIO'].unique())\n",
    "print(df['ARMAS MEDIOS'].unique())"
   ]
  },
  {
   "cell_type": "markdown",
   "metadata": {},
   "source": [
    "###Medidas de tendencia Central y dispersión y Datos representativos en el espacio muestral"
   ]
  },
  {
   "cell_type": "code",
   "execution_count": 1136,
   "metadata": {},
   "outputs": [
    {
     "name": "stdout",
     "output_type": "stream",
     "text": [
      "Media: 1.8575146301742498\n",
      "Desviación estándar: 4.144574686628082\n"
     ]
    }
   ],
   "source": [
    "# media y desviación estánda\n",
    "media_cantidad = df['CANTIDAD'].mean()\n",
    "desviacion_estandar_cantidad = df['CANTIDAD'].std()\n",
    "\n",
    "print(f\"Media: {media_cantidad}\")\n",
    "print(f\"Desviación estándar: {desviacion_estandar_cantidad}\")"
   ]
  },
  {
   "cell_type": "code",
   "execution_count": 1137,
   "metadata": {},
   "outputs": [
    {
     "name": "stdout",
     "output_type": "stream",
     "text": [
      "Umbrales: 0 a 14.291238690058496\n"
     ]
    }
   ],
   "source": [
    "#definición de umbrales\n",
    "umbral_inferior = max(media_cantidad - 3 * desviacion_estandar_cantidad,0)\n",
    "umbral_superior = media_cantidad + 3 * desviacion_estandar_cantidad\n",
    "\n",
    "print(f\"Umbrales: {umbral_inferior} a {umbral_superior}\")\n",
    "# Filtrar el DataFrame para excluir los valores atípicos en CANTIDAD\n",
    "df_sin_atipicos = df[(df['CANTIDAD'] >= umbral_inferior) & (df['CANTIDAD'] <= umbral_superior)]"
   ]
  },
  {
   "cell_type": "code",
   "execution_count": 1138,
   "metadata": {},
   "outputs": [],
   "source": [
    "# DataFrames para los valores normales y los atípicos\n",
    "df_sin_atipicos = df[(df['CANTIDAD'] >= umbral_inferior) & (df['CANTIDAD'] <= umbral_superior)]\n",
    "df_atipicos = df[(df['CANTIDAD'] < umbral_inferior) | (df['CANTIDAD'] > umbral_superior)]"
   ]
  },
  {
   "cell_type": "code",
   "execution_count": 1139,
   "metadata": {},
   "outputs": [
    {
     "data": {
      "image/png": "[encoded data removed]",
      "text/plain": [
       "<Figure size 1200x600 with 1 Axes>"
      ]
     },
     "metadata": {},
     "output_type": "display_data"
    }
   ],
   "source": [
    "# Graph\n",
    "plt.figure(figsize=(12, 6))\n",
    "\n",
    "# Histogram\n",
    "sns.histplot(df_sin_atipicos['CANTIDAD'], color=\"skyblue\", kde=True, label=\"Normales\", stat=\"density\")\n",
    "sns.histplot(df_atipicos['CANTIDAD'], color=\"salmon\", kde=True, label=\"Atípicos\", stat=\"density\")\n",
    "\n",
    "# Properties\n",
    "plt.title(\"CANTIDAD de incidentes Normales y Atípicos\")\n",
    "plt.xlabel(\"CANTIDAD\")\n",
    "plt.ylabel(\"Densidad\")\n",
    "plt.legend()\n",
    "plt.ticklabel_format(style='plain', axis='y')  \n",
    "plt.show()\n"
   ]
  },
  {
   "cell_type": "code",
   "execution_count": 1140,
   "metadata": {},
   "outputs": [
    {
     "data": {
      "image/png": "[encoded data removed]",
      "text/plain": [
       "<Figure size 1200x600 with 1 Axes>"
      ]
     },
     "metadata": {},
     "output_type": "display_data"
    }
   ],
   "source": [
    "df_generos = df[df['GENERO'] != 'NO REPORTA']\n",
    "df_generos = df[df['AÑO'] < 2024]\n",
    "\n",
    "# Agrupar por 'AÑO' y 'GENERO' y sumar la 'CANTIDAD'\n",
    "grupo = df_generos.groupby(['AÑO', 'GENERO'])['CANTIDAD'].sum().reset_index()\n",
    "tabla_pivot = grupo.pivot(index='AÑO', columns='GENERO', values='CANTIDAD').fillna(0)\n",
    "generos_presentes = tabla_pivot.columns.tolist()\n",
    "\n",
    "# Graph Style\n",
    "sns.set_style(\"whitegrid\")\n",
    "\n",
    "# Line Graph\n",
    "plt.figure(figsize=(12, 6))\n",
    "\n",
    "for genero in generos_presentes:\n",
    "    plt.plot(tabla_pivot.index, tabla_pivot[genero], label=genero, color=color_map.get(genero, 'gray'), marker='o')\n",
    "\n",
    "# Properties\n",
    "plt.title('Avance de Casos por Año y Género', fontsize=16)\n",
    "plt.xlabel('Año', fontsize=14)\n",
    "plt.ylabel('Cantidad de Casos', fontsize=14)\n",
    "plt.legend(title='Género')\n",
    "\n",
    "# Show Graph\n",
    "plt.tight_layout()\n",
    "plt.show()"
   ]
  },
  {
   "cell_type": "code",
   "execution_count": 1141,
   "metadata": {},
   "outputs": [
    {
     "data": {
      "image/png": "[encoded data removed]",
      "text/plain": [
       "<Figure size 1000x600 with 1 Axes>"
      ]
     },
     "metadata": {},
     "output_type": "display_data"
    }
   ],
   "source": [
    "plt.figure(figsize=(10, 6))\n",
    "sns.histplot(df_sin_atipicos['CANTIDAD'], kde=True, color=\"coral\")\n",
    "\n",
    "plt.title(\"CANTIDAD de incidentes Normales\")\n",
    "plt.xlabel(\"CANTIDAD\")\n",
    "plt.ylabel(\"Frecuencia\")\n",
    "plt.ticklabel_format(style='plain', axis='y')  # Muestra números completos en el eje Y\n",
    "\n",
    "plt.show()"
   ]
  },
  {
   "cell_type": "markdown",
   "metadata": {},
   "source": [
    "Tratamiento de Valores atipicos\n",
    "\n",
    "Este cambio se basa en el analisis de la variable Cantidad de la data trabaja\n",
    "\n",
    "Dado que cada fila del conjuto de datos reprenta un unico registro, se considera oprtuno eliminar los registros con casos superiores a 20, debido a que es absurdo pensar  que se haya notificado un unico incidente de violencia domestica com mas de 20 victimas en el mismo lugar. Esto podria deberse a un error de introducción de datos, ya que hay casos que superan los 100"
   ]
  },
  {
   "cell_type": "code",
   "execution_count": 1142,
   "metadata": {},
   "outputs": [
    {
     "name": "stdout",
     "output_type": "stream",
     "text": [
      "7164\n"
     ]
    }
   ],
   "source": [
    " # Filtrar filas donde 'CANTIDAD' es atipico, mayor al umbral superior\n",
    "df_filtered = df[df['CANTIDAD'] > umbral_superior]\n",
    "# Cantidad de filas sobre el umbral \n",
    "count = df_filtered['CANTIDAD'].count()  \n",
    "print(count)"
   ]
  },
  {
   "cell_type": "markdown",
   "metadata": {},
   "source": [
    "Prueba de Hipotesis\n",
    "H0: El tipo de arma no influye significativamente en la cantidad de casos.\n",
    "H1: El tipo de arma tiene un efecto significativo en la cantidad de casos reportados."
   ]
  },
  {
   "cell_type": "code",
   "execution_count": 1143,
   "metadata": {},
   "outputs": [
    {
     "data": {
      "image/png": "[encoded data removed]",
      "text/plain": [
       "<Figure size 1200x600 with 1 Axes>"
      ]
     },
     "metadata": {},
     "output_type": "display_data"
    }
   ],
   "source": [
    "# Visualización de la distribución de casos por tipo de arma - (Boxplot)\n",
    "plt.figure(figsize=(12, 6))\n",
    "sns.boxplot(x='ARMAS MEDIOS', y='CANTIDAD', data=df)\n",
    "plt.title('Distribución de la Cantidad de Casos por Tipo de Arma')\n",
    "plt.xticks(rotation=90)\n",
    "plt.show()"
   ]
  },
  {
   "cell_type": "code",
   "execution_count": 1144,
   "metadata": {},
   "outputs": [
    {
     "name": "stdout",
     "output_type": "stream",
     "text": [
      "Estadístico F: 1532.2621503690414\n",
      "Valor p: 0.0\n",
      "Rechazamos la hipótesis nula (H0): El tipo de arma tiene un efecto significativo en la cantidad de casos reportados.\n"
     ]
    }
   ],
   "source": [
    "# Agrupar los datos por tipo de arma y convertirlos a listas para ANOVA\n",
    "arma_grupos = [grupo['CANTIDAD'].values for nombre, grupo in df.groupby('ARMAS MEDIOS')]\n",
    "\n",
    "# Prueba ANOVA de una vía\n",
    "f_stat, p_value = stats.f_oneway(*arma_grupos)\n",
    "print(f'Estadístico F: {f_stat}')\n",
    "print(f'Valor p: {p_value}')\n",
    "alpha = 0.05\n",
    "if p_value < alpha:\n",
    "    print(\"Rechazamos la hipótesis nula (H0): El tipo de arma tiene un efecto significativo en la cantidad de casos reportados.\")\n",
    "else:\n",
    "    print(\"No podemos rechazar la hipótesis nula (H0): El tipo de arma no influye significativamente en la cantidad de casos.\")"
   ]
  },
  {
   "cell_type": "markdown",
   "metadata": {},
   "source": [
    "#### Interpretación de los resultados \n",
    "- Si el valor p es menor que el nivel de significancia (α = 0.05), se rechaza la hipótesis nula, indicando que el tipo de arma tiene un efecto significativo en la cantidad de casos.\n",
    "- Si el valor p es mayor que α, no se puede rechazar la hipótesis nula, lo que sugiere que no hay suficiente evidencia para afirmar que el tipo de arma influye en la cantidad de casos. Esto implica que hay diferencias significativas en la cantidad de casos entre al menos dos tipos de armas."
   ]
  },
  {
   "cell_type": "markdown",
   "metadata": {},
   "source": [
    "#### EDA (Exploratory Data Analysis)"
   ]
  },
  {
   "cell_type": "markdown",
   "metadata": {},
   "source": [
    "Distribucción de columnas\n",
    "- Podemos ver que en 2020 tuvo un gran aumento de casos, y se tiene una gran concentración de casos de 1 a 2 casos por fila "
   ]
  },
  {
   "cell_type": "code",
   "execution_count": 1145,
   "metadata": {},
   "outputs": [
    {
     "data": {
      "image/png": "[encoded data removed]",
      "text/plain": [
       "<Figure size 1700x800 with 4 Axes>"
      ]
     },
     "metadata": {},
     "output_type": "display_data"
    }
   ],
   "source": [
    "df.hist(figsize=(17, 8), bins=50) # histograma\n",
    "plt.show()\n"
   ]
  },
  {
   "cell_type": "markdown",
   "metadata": {},
   "source": [
    "Visualización de Datos"
   ]
  },
  {
   "cell_type": "code",
   "execution_count": 1146,
   "metadata": {},
   "outputs": [
    {
     "name": "stdout",
     "output_type": "stream",
     "text": [
      "Resumen estadístico de variables numéricas:\n",
      "                         FECHA HECHO       CANTIDAD            AÑO\n",
      "count                         670532  670532.000000  670532.000000\n",
      "mean   2018-12-03 19:06:12.921799424       1.857515    2018.463994\n",
      "min              2010-01-01 00:00:00       1.000000    2010.000000\n",
      "25%              2016-04-29 00:00:00       1.000000    2016.000000\n",
      "50%              2019-09-13 00:00:00       1.000000    2019.000000\n",
      "75%              2021-11-01 00:00:00       1.000000    2021.000000\n",
      "max              2024-04-30 00:00:00     149.000000    2024.000000\n",
      "std                              NaN       4.144575       3.627424\n",
      "\n",
      "Resumen estadístico de variables categóricas:\n",
      "        DEPARTAMENTO         MUNICIPIO ARMAS MEDIOS    GENERO GRUPO ETARIO  \\\n",
      "count         670532            670532       670532    670532       670532   \n",
      "unique            34              2027            5         4            5   \n",
      "top     CUNDINAMARCA  BOGOTÁ D.C. (CT)  ARMA BLANCA  FEMENINO      ADULTOS   \n",
      "freq          120385             58103       350267    505169       583964   \n",
      "\n",
      "           DIA      MES  \n",
      "count   670532   670532  \n",
      "unique       7       12  \n",
      "top     Sunday  January  \n",
      "freq    123955    68532  \n",
      "\n",
      "Resumen estadístico de todas las variables:\n",
      "        DEPARTAMENTO         MUNICIPIO ARMAS MEDIOS  \\\n",
      "count         670532            670532       670532   \n",
      "unique            34              2027            5   \n",
      "top     CUNDINAMARCA  BOGOTÁ D.C. (CT)  ARMA BLANCA   \n",
      "freq          120385             58103       350267   \n",
      "mean             NaN               NaN          NaN   \n",
      "min              NaN               NaN          NaN   \n",
      "25%              NaN               NaN          NaN   \n",
      "50%              NaN               NaN          NaN   \n",
      "75%              NaN               NaN          NaN   \n",
      "max              NaN               NaN          NaN   \n",
      "std              NaN               NaN          NaN   \n",
      "\n",
      "                          FECHA HECHO    GENERO GRUPO ETARIO       CANTIDAD  \\\n",
      "count                          670532    670532       670532  670532.000000   \n",
      "unique                            NaN         4            5            NaN   \n",
      "top                               NaN  FEMENINO      ADULTOS            NaN   \n",
      "freq                              NaN    505169       583964            NaN   \n",
      "mean    2018-12-03 19:06:12.921799424       NaN          NaN       1.857515   \n",
      "min               2010-01-01 00:00:00       NaN          NaN       1.000000   \n",
      "25%               2016-04-29 00:00:00       NaN          NaN       1.000000   \n",
      "50%               2019-09-13 00:00:00       NaN          NaN       1.000000   \n",
      "75%               2021-11-01 00:00:00       NaN          NaN       1.000000   \n",
      "max               2024-04-30 00:00:00       NaN          NaN     149.000000   \n",
      "std                               NaN       NaN          NaN       4.144575   \n",
      "\n",
      "                  AÑO     DIA      MES  \n",
      "count   670532.000000  670532   670532  \n",
      "unique            NaN       7       12  \n",
      "top               NaN  Sunday  January  \n",
      "freq              NaN  123955    68532  \n",
      "mean      2018.463994     NaN      NaN  \n",
      "min       2010.000000     NaN      NaN  \n",
      "25%       2016.000000     NaN      NaN  \n",
      "50%       2019.000000     NaN      NaN  \n",
      "75%       2021.000000     NaN      NaN  \n",
      "max       2024.000000     NaN      NaN  \n",
      "std          3.627424     NaN      NaN  \n"
     ]
    }
   ],
   "source": [
    "print(\"Resumen estadístico de variables numéricas:\")\n",
    "print(df.describe())\n",
    "\n",
    "print(\"\\nResumen estadístico de variables categóricas:\")\n",
    "print(df.describe(include='object'))\n",
    "\n",
    "print(\"\\nResumen estadístico de todas las variables:\") # (numéricas y categóricas)\n",
    "print(df.describe(include='all'))"
   ]
  },
  {
   "cell_type": "code",
   "execution_count": 1147,
   "metadata": {},
   "outputs": [
    {
     "data": {
      "text/html": [
       "<div>\n",
       "<style scoped>\n",
       "    .dataframe tbody tr th:only-of-type {\n",
       "        vertical-align: middle;\n",
       "    }\n",
       "\n",
       "    .dataframe tbody tr th {\n",
       "        vertical-align: top;\n",
       "    }\n",
       "\n",
       "    .dataframe thead th {\n",
       "        text-align: right;\n",
       "    }\n",
       "</style>\n",
       "<table border=\"1\" class=\"dataframe\">\n",
       "  <thead>\n",
       "    <tr style=\"text-align: right;\">\n",
       "      <th></th>\n",
       "      <th>DEPARTAMENTO</th>\n",
       "      <th>MUNICIPIO</th>\n",
       "      <th>ARMAS MEDIOS</th>\n",
       "      <th>GENERO</th>\n",
       "      <th>GRUPO ETARIO</th>\n",
       "      <th>CANTIDAD</th>\n",
       "      <th>AÑO</th>\n",
       "      <th>DIA</th>\n",
       "      <th>MES</th>\n",
       "    </tr>\n",
       "  </thead>\n",
       "  <tbody>\n",
       "    <tr>\n",
       "      <th>count</th>\n",
       "      <td>670532</td>\n",
       "      <td>670532</td>\n",
       "      <td>670532</td>\n",
       "      <td>670532</td>\n",
       "      <td>670532</td>\n",
       "      <td>670532.000000</td>\n",
       "      <td>670532.000000</td>\n",
       "      <td>670532</td>\n",
       "      <td>670532</td>\n",
       "    </tr>\n",
       "    <tr>\n",
       "      <th>unique</th>\n",
       "      <td>34</td>\n",
       "      <td>2027</td>\n",
       "      <td>5</td>\n",
       "      <td>4</td>\n",
       "      <td>5</td>\n",
       "      <td>NaN</td>\n",
       "      <td>NaN</td>\n",
       "      <td>7</td>\n",
       "      <td>12</td>\n",
       "    </tr>\n",
       "    <tr>\n",
       "      <th>top</th>\n",
       "      <td>CUNDINAMARCA</td>\n",
       "      <td>BOGOTÁ D.C. (CT)</td>\n",
       "      <td>ARMA BLANCA</td>\n",
       "      <td>FEMENINO</td>\n",
       "      <td>ADULTOS</td>\n",
       "      <td>NaN</td>\n",
       "      <td>NaN</td>\n",
       "      <td>Sunday</td>\n",
       "      <td>January</td>\n",
       "    </tr>\n",
       "    <tr>\n",
       "      <th>freq</th>\n",
       "      <td>120385</td>\n",
       "      <td>58103</td>\n",
       "      <td>350267</td>\n",
       "      <td>505169</td>\n",
       "      <td>583964</td>\n",
       "      <td>NaN</td>\n",
       "      <td>NaN</td>\n",
       "      <td>123955</td>\n",
       "      <td>68532</td>\n",
       "    </tr>\n",
       "    <tr>\n",
       "      <th>mean</th>\n",
       "      <td>NaN</td>\n",
       "      <td>NaN</td>\n",
       "      <td>NaN</td>\n",
       "      <td>NaN</td>\n",
       "      <td>NaN</td>\n",
       "      <td>1.857515</td>\n",
       "      <td>2018.463994</td>\n",
       "      <td>NaN</td>\n",
       "      <td>NaN</td>\n",
       "    </tr>\n",
       "    <tr>\n",
       "      <th>std</th>\n",
       "      <td>NaN</td>\n",
       "      <td>NaN</td>\n",
       "      <td>NaN</td>\n",
       "      <td>NaN</td>\n",
       "      <td>NaN</td>\n",
       "      <td>4.144575</td>\n",
       "      <td>3.627424</td>\n",
       "      <td>NaN</td>\n",
       "      <td>NaN</td>\n",
       "    </tr>\n",
       "    <tr>\n",
       "      <th>min</th>\n",
       "      <td>NaN</td>\n",
       "      <td>NaN</td>\n",
       "      <td>NaN</td>\n",
       "      <td>NaN</td>\n",
       "      <td>NaN</td>\n",
       "      <td>1.000000</td>\n",
       "      <td>2010.000000</td>\n",
       "      <td>NaN</td>\n",
       "      <td>NaN</td>\n",
       "    </tr>\n",
       "    <tr>\n",
       "      <th>25%</th>\n",
       "      <td>NaN</td>\n",
       "      <td>NaN</td>\n",
       "      <td>NaN</td>\n",
       "      <td>NaN</td>\n",
       "      <td>NaN</td>\n",
       "      <td>1.000000</td>\n",
       "      <td>2016.000000</td>\n",
       "      <td>NaN</td>\n",
       "      <td>NaN</td>\n",
       "    </tr>\n",
       "    <tr>\n",
       "      <th>50%</th>\n",
       "      <td>NaN</td>\n",
       "      <td>NaN</td>\n",
       "      <td>NaN</td>\n",
       "      <td>NaN</td>\n",
       "      <td>NaN</td>\n",
       "      <td>1.000000</td>\n",
       "      <td>2019.000000</td>\n",
       "      <td>NaN</td>\n",
       "      <td>NaN</td>\n",
       "    </tr>\n",
       "    <tr>\n",
       "      <th>75%</th>\n",
       "      <td>NaN</td>\n",
       "      <td>NaN</td>\n",
       "      <td>NaN</td>\n",
       "      <td>NaN</td>\n",
       "      <td>NaN</td>\n",
       "      <td>1.000000</td>\n",
       "      <td>2021.000000</td>\n",
       "      <td>NaN</td>\n",
       "      <td>NaN</td>\n",
       "    </tr>\n",
       "    <tr>\n",
       "      <th>max</th>\n",
       "      <td>NaN</td>\n",
       "      <td>NaN</td>\n",
       "      <td>NaN</td>\n",
       "      <td>NaN</td>\n",
       "      <td>NaN</td>\n",
       "      <td>149.000000</td>\n",
       "      <td>2024.000000</td>\n",
       "      <td>NaN</td>\n",
       "      <td>NaN</td>\n",
       "    </tr>\n",
       "  </tbody>\n",
       "</table>\n",
       "</div>"
      ],
      "text/plain": [
       "        DEPARTAMENTO         MUNICIPIO ARMAS MEDIOS    GENERO GRUPO ETARIO  \\\n",
       "count         670532            670532       670532    670532       670532   \n",
       "unique            34              2027            5         4            5   \n",
       "top     CUNDINAMARCA  BOGOTÁ D.C. (CT)  ARMA BLANCA  FEMENINO      ADULTOS   \n",
       "freq          120385             58103       350267    505169       583964   \n",
       "mean             NaN               NaN          NaN       NaN          NaN   \n",
       "std              NaN               NaN          NaN       NaN          NaN   \n",
       "min              NaN               NaN          NaN       NaN          NaN   \n",
       "25%              NaN               NaN          NaN       NaN          NaN   \n",
       "50%              NaN               NaN          NaN       NaN          NaN   \n",
       "75%              NaN               NaN          NaN       NaN          NaN   \n",
       "max              NaN               NaN          NaN       NaN          NaN   \n",
       "\n",
       "             CANTIDAD            AÑO     DIA      MES  \n",
       "count   670532.000000  670532.000000  670532   670532  \n",
       "unique            NaN            NaN       7       12  \n",
       "top               NaN            NaN  Sunday  January  \n",
       "freq              NaN            NaN  123955    68532  \n",
       "mean         1.857515    2018.463994     NaN      NaN  \n",
       "std          4.144575       3.627424     NaN      NaN  \n",
       "min          1.000000    2010.000000     NaN      NaN  \n",
       "25%          1.000000    2016.000000     NaN      NaN  \n",
       "50%          1.000000    2019.000000     NaN      NaN  \n",
       "75%          1.000000    2021.000000     NaN      NaN  \n",
       "max        149.000000    2024.000000     NaN      NaN  "
      ]
     },
     "execution_count": 1147,
     "metadata": {},
     "output_type": "execute_result"
    }
   ],
   "source": [
    "df.describe(exclude='datetime') # Resumen estadistico "
   ]
  },
  {
   "cell_type": "code",
   "execution_count": 1148,
   "metadata": {},
   "outputs": [
    {
     "data": {
      "text/html": [
       "<div>\n",
       "<style scoped>\n",
       "    .dataframe tbody tr th:only-of-type {\n",
       "        vertical-align: middle;\n",
       "    }\n",
       "\n",
       "    .dataframe tbody tr th {\n",
       "        vertical-align: top;\n",
       "    }\n",
       "\n",
       "    .dataframe thead th {\n",
       "        text-align: right;\n",
       "    }\n",
       "</style>\n",
       "<table border=\"1\" class=\"dataframe\">\n",
       "  <thead>\n",
       "    <tr style=\"text-align: right;\">\n",
       "      <th></th>\n",
       "      <th>DEPARTAMENTO</th>\n",
       "      <th>CANTIDAD</th>\n",
       "    </tr>\n",
       "  </thead>\n",
       "  <tbody>\n",
       "    <tr>\n",
       "      <th>12</th>\n",
       "      <td>CUNDINAMARCA</td>\n",
       "      <td>120385</td>\n",
       "    </tr>\n",
       "    <tr>\n",
       "      <th>1</th>\n",
       "      <td>ANTIOQUIA</td>\n",
       "      <td>83966</td>\n",
       "    </tr>\n",
       "    <tr>\n",
       "      <th>31</th>\n",
       "      <td>VALLE</td>\n",
       "      <td>62145</td>\n",
       "    </tr>\n",
       "    <tr>\n",
       "      <th>28</th>\n",
       "      <td>SANTANDER</td>\n",
       "      <td>51175</td>\n",
       "    </tr>\n",
       "    <tr>\n",
       "      <th>5</th>\n",
       "      <td>BOYACÁ</td>\n",
       "      <td>38134</td>\n",
       "    </tr>\n",
       "    <tr>\n",
       "      <th>30</th>\n",
       "      <td>TOLIMA</td>\n",
       "      <td>25156</td>\n",
       "    </tr>\n",
       "    <tr>\n",
       "      <th>3</th>\n",
       "      <td>ATLÁNTICO</td>\n",
       "      <td>25037</td>\n",
       "    </tr>\n",
       "    <tr>\n",
       "      <th>4</th>\n",
       "      <td>BOLÍVAR</td>\n",
       "      <td>22990</td>\n",
       "    </tr>\n",
       "    <tr>\n",
       "      <th>17</th>\n",
       "      <td>HUILA</td>\n",
       "      <td>22615</td>\n",
       "    </tr>\n",
       "    <tr>\n",
       "      <th>19</th>\n",
       "      <td>META</td>\n",
       "      <td>22467</td>\n",
       "    </tr>\n",
       "    <tr>\n",
       "      <th>9</th>\n",
       "      <td>CAUCA</td>\n",
       "      <td>20970</td>\n",
       "    </tr>\n",
       "    <tr>\n",
       "      <th>20</th>\n",
       "      <td>NARIÑO</td>\n",
       "      <td>20892</td>\n",
       "    </tr>\n",
       "    <tr>\n",
       "      <th>23</th>\n",
       "      <td>NORTE DE SANTANDER</td>\n",
       "      <td>19722</td>\n",
       "    </tr>\n",
       "    <tr>\n",
       "      <th>26</th>\n",
       "      <td>RISARALDA</td>\n",
       "      <td>19168</td>\n",
       "    </tr>\n",
       "    <tr>\n",
       "      <th>13</th>\n",
       "      <td>CÓRDOBA</td>\n",
       "      <td>14493</td>\n",
       "    </tr>\n",
       "    <tr>\n",
       "      <th>18</th>\n",
       "      <td>MAGDALENA</td>\n",
       "      <td>14064</td>\n",
       "    </tr>\n",
       "    <tr>\n",
       "      <th>29</th>\n",
       "      <td>SUCRE</td>\n",
       "      <td>13402</td>\n",
       "    </tr>\n",
       "    <tr>\n",
       "      <th>6</th>\n",
       "      <td>CALDAS</td>\n",
       "      <td>13133</td>\n",
       "    </tr>\n",
       "    <tr>\n",
       "      <th>10</th>\n",
       "      <td>CESAR</td>\n",
       "      <td>12138</td>\n",
       "    </tr>\n",
       "    <tr>\n",
       "      <th>8</th>\n",
       "      <td>CASANARE</td>\n",
       "      <td>8911</td>\n",
       "    </tr>\n",
       "    <tr>\n",
       "      <th>25</th>\n",
       "      <td>QUINDÍO</td>\n",
       "      <td>7472</td>\n",
       "    </tr>\n",
       "    <tr>\n",
       "      <th>7</th>\n",
       "      <td>CAQUETÁ</td>\n",
       "      <td>6511</td>\n",
       "    </tr>\n",
       "    <tr>\n",
       "      <th>15</th>\n",
       "      <td>GUAJIRA</td>\n",
       "      <td>5809</td>\n",
       "    </tr>\n",
       "    <tr>\n",
       "      <th>24</th>\n",
       "      <td>PUTUMAYO</td>\n",
       "      <td>4940</td>\n",
       "    </tr>\n",
       "    <tr>\n",
       "      <th>2</th>\n",
       "      <td>ARAUCA</td>\n",
       "      <td>4583</td>\n",
       "    </tr>\n",
       "    <tr>\n",
       "      <th>11</th>\n",
       "      <td>CHOCÓ</td>\n",
       "      <td>3118</td>\n",
       "    </tr>\n",
       "    <tr>\n",
       "      <th>27</th>\n",
       "      <td>SAN ANDRÉS</td>\n",
       "      <td>1803</td>\n",
       "    </tr>\n",
       "    <tr>\n",
       "      <th>16</th>\n",
       "      <td>GUAVIARE</td>\n",
       "      <td>1651</td>\n",
       "    </tr>\n",
       "    <tr>\n",
       "      <th>0</th>\n",
       "      <td>AMAZONAS</td>\n",
       "      <td>1590</td>\n",
       "    </tr>\n",
       "    <tr>\n",
       "      <th>14</th>\n",
       "      <td>GUAINÍA</td>\n",
       "      <td>780</td>\n",
       "    </tr>\n",
       "    <tr>\n",
       "      <th>33</th>\n",
       "      <td>VICHADA</td>\n",
       "      <td>657</td>\n",
       "    </tr>\n",
       "    <tr>\n",
       "      <th>32</th>\n",
       "      <td>VAUPÉS</td>\n",
       "      <td>648</td>\n",
       "    </tr>\n",
       "    <tr>\n",
       "      <th>21</th>\n",
       "      <td>NO REPORTA</td>\n",
       "      <td>6</td>\n",
       "    </tr>\n",
       "    <tr>\n",
       "      <th>22</th>\n",
       "      <td>NO REPORTADO</td>\n",
       "      <td>1</td>\n",
       "    </tr>\n",
       "  </tbody>\n",
       "</table>\n",
       "</div>"
      ],
      "text/plain": [
       "          DEPARTAMENTO  CANTIDAD\n",
       "12        CUNDINAMARCA    120385\n",
       "1            ANTIOQUIA     83966\n",
       "31               VALLE     62145\n",
       "28           SANTANDER     51175\n",
       "5               BOYACÁ     38134\n",
       "30              TOLIMA     25156\n",
       "3            ATLÁNTICO     25037\n",
       "4              BOLÍVAR     22990\n",
       "17               HUILA     22615\n",
       "19                META     22467\n",
       "9                CAUCA     20970\n",
       "20              NARIÑO     20892\n",
       "23  NORTE DE SANTANDER     19722\n",
       "26           RISARALDA     19168\n",
       "13             CÓRDOBA     14493\n",
       "18           MAGDALENA     14064\n",
       "29               SUCRE     13402\n",
       "6               CALDAS     13133\n",
       "10               CESAR     12138\n",
       "8             CASANARE      8911\n",
       "25             QUINDÍO      7472\n",
       "7              CAQUETÁ      6511\n",
       "15             GUAJIRA      5809\n",
       "24            PUTUMAYO      4940\n",
       "2               ARAUCA      4583\n",
       "11               CHOCÓ      3118\n",
       "27          SAN ANDRÉS      1803\n",
       "16            GUAVIARE      1651\n",
       "0             AMAZONAS      1590\n",
       "14             GUAINÍA       780\n",
       "33             VICHADA       657\n",
       "32              VAUPÉS       648\n",
       "21          NO REPORTA         6\n",
       "22        NO REPORTADO         1"
      ]
     },
     "execution_count": 1148,
     "metadata": {},
     "output_type": "execute_result"
    }
   ],
   "source": [
    "# ¿Que departamentos tiene mas casos y como se distribuyen?\n",
    "tabla_departamento = pd.pivot_table(df, index = ('DEPARTAMENTO'), values = 'CANTIDAD', columns = None, aggfunc='count').reset_index()\n",
    "tabla_departamento.sort_values(by='CANTIDAD', ascending=False)"
   ]
  },
  {
   "cell_type": "code",
   "execution_count": 1149,
   "metadata": {},
   "outputs": [
    {
     "data": {
      "image/png": "[encoded data removed]",
      "text/plain": [
       "<Figure size 1200x600 with 1 Axes>"
      ]
     },
     "metadata": {},
     "output_type": "display_data"
    }
   ],
   "source": [
    "count_depart = df['DEPARTAMENTO'].value_counts()\n",
    "top_10 = count_depart.nlargest(10)\n",
    "\n",
    "plt.figure(figsize=(12, 6))\n",
    "ax = sns.barplot(x=top_10.index, y=top_10.values)\n",
    "ax.set_title('Top 10 Departamentos por Número de Casos')\n",
    "ax.set_xlabel('Departamento')\n",
    "ax.set_ylabel('Número de Casos')\n",
    "plt.xticks(rotation=90)\n",
    "# Agregar etiquetas con el número de casos encima de cada barra\n",
    "ax.bar_label(ax.containers[0])\n",
    "plt.show()"
   ]
  },
  {
   "cell_type": "code",
   "execution_count": 1150,
   "metadata": {},
   "outputs": [
    {
     "data": {
      "image/png": "[encoded data removed]",
      "text/plain": [
       "<Figure size 1200x600 with 1 Axes>"
      ]
     },
     "metadata": {},
     "output_type": "display_data"
    }
   ],
   "source": [
    "count_municipio = df['MUNICIPIO'].value_counts()\n",
    "top_10 = count_municipio.nlargest(10)\n",
    "\n",
    "plt.figure(figsize=(12, 6))\n",
    "ax = sns.barplot(x=top_10.index, y=top_10.values)\n",
    "ax.set_title('Top 10 Municipios por Número de Casos')\n",
    "ax.set_xlabel('Municipio')\n",
    "ax.set_ylabel('Número de Casos')\n",
    "plt.xticks(rotation=90)\n",
    "\n",
    "# Agregar etiquetas con el número de casos encima de cada barra\n",
    "ax.bar_label(ax.containers[0])\n",
    "\n",
    "plt.show()\n"
   ]
  },
  {
   "cell_type": "markdown",
   "metadata": {},
   "source": [
    "Que tipo de arma es la mas comun : las armas mas utilizadas en los casos de violencia intrafamiliar en Colombia es el arma blanca, seguido del no uso de armas. "
   ]
  },
  {
   "cell_type": "code",
   "execution_count": 1151,
   "metadata": {},
   "outputs": [
    {
     "name": "stdout",
     "output_type": "stream",
     "text": [
      "          ARMAS MEDIOS  CANTIDAD\n",
      "0          ARMA BLANCA    350267\n",
      "4  SIN EMPLEO DE ARMAS    237096\n",
      "3           NO REPORTA     76357\n",
      "2         ESCOPOLAMINA      3863\n",
      "1        ARMA DE FUEGO      2949\n"
     ]
    }
   ],
   "source": [
    "df['ARMAS MEDIOS'] = df['ARMAS MEDIOS'].replace({'ARMA BLANCA / CORTOPUNZANTE':'ARMA BLANCA','-':'NO REPORTA','NO REPORTADO':'NO REPORTA','CORTOPUNZANTES':'ARMA BLANCA','CORTANTES':'ARMA BLANCA','CONTUNDENTES':'ARMA BLANCA','PUNZANTES':'ARMA BLANCA'})\n",
    "\n",
    "# tabla dinámica para contar el número de casos por tipo de arma\n",
    "tipo_de_arma = pd.pivot_table(df, index='ARMAS MEDIOS', values='CANTIDAD', aggfunc='count').reset_index()\n",
    "\n",
    "# Ordenar la tabla por la columna 'CANTIDAD' en orden descendente\n",
    "tipo_de_arma.sort_values(by='CANTIDAD', ascending=False, inplace=True)\n",
    "\n",
    "# Mostrar la tabla\n",
    "print(tipo_de_arma)"
   ]
  },
  {
   "cell_type": "code",
   "execution_count": 1152,
   "metadata": {},
   "outputs": [
    {
     "name": "stdout",
     "output_type": "stream",
     "text": [
      "          ARMAS MEDIOS  CANTIDAD\n",
      "0          ARMA BLANCA    350267\n",
      "4  SIN EMPLEO DE ARMAS    237096\n",
      "3           NO REPORTA     76357\n",
      "2         ESCOPOLAMINA      3863\n",
      "1        ARMA DE FUEGO      2949\n"
     ]
    },
    {
     "data": {
      "application/vnd.plotly.v1+json": {
       "config": {
        "plotlyServerURL": "https://plot.ly"
       },
       "data": [
        {
         "alignmentgroup": "True",
         "cliponaxis": false,
         "hovertemplate": "ARMAS MEDIOS=%{x}<br>CANTIDAD=%{y}<extra></extra>",
         "legendgroup": "",
         "marker": {
          "color": "#636efa",
          "pattern": {
           "shape": ""
          }
         },
         "name": "",
         "offsetgroup": "",
         "orientation": "v",
         "showlegend": false,
         "textangle": 0,
         "textfont": {
          "size": 12
         },
         "textposition": "outside",
         "texttemplate": "%{y:.2s}",
         "type": "bar",
         "x": [
          "ARMA BLANCA",
          "SIN EMPLEO DE ARMAS",
          "NO REPORTA",
          "ESCOPOLAMINA",
          "ARMA DE FUEGO"
         ],
         "xaxis": "x",
         "y": [
          350267,
          237096,
          76357,
          3863,
          2949
         ],
         "yaxis": "y"
        }
       ],
       "layout": {
        "barmode": "relative",
        "legend": {
         "tracegroupgap": 0
        },
        "template": {
         "data": {
          "bar": [
           {
            "error_x": {
             "color": "#2a3f5f"
            },
            "error_y": {
             "color": "#2a3f5f"
            },
            "marker": {
             "line": {
              "color": "#E5ECF6",
              "width": 0.5
             },
             "pattern": {
              "fillmode": "overlay",
              "size": 10,
              "solidity": 0.2
             }
            },
            "type": "bar"
           }
          ],
          "barpolar": [
           {
            "marker": {
             "line": {
              "color": "#E5ECF6",
              "width": 0.5
             },
             "pattern": {
              "fillmode": "overlay",
              "size": 10,
              "solidity": 0.2
             }
            },
            "type": "barpolar"
           }
          ],
          "carpet": [
           {
            "aaxis": {
             "endlinecolor": "#2a3f5f",
             "gridcolor": "white",
             "linecolor": "white",
             "minorgridcolor": "white",
             "startlinecolor": "#2a3f5f"
            },
            "baxis": {
             "endlinecolor": "#2a3f5f",
             "gridcolor": "white",
             "linecolor": "white",
             "minorgridcolor": "white",
             "startlinecolor": "#2a3f5f"
            },
            "type": "carpet"
           }
          ],
          "choropleth": [
           {
            "colorbar": {
             "outlinewidth": 0,
             "ticks": ""
            },
            "type": "choropleth"
           }
          ],
          "contour": [
           {
            "colorbar": {
             "outlinewidth": 0,
             "ticks": ""
            },
            "colorscale": [
             [
              0,
              "#0d0887"
             ],
             [
              0.1111111111111111,
              "#46039f"
             ],
             [
              0.2222222222222222,
              "#7201a8"
             ],
             [
              0.3333333333333333,
              "#9c179e"
             ],
             [
              0.4444444444444444,
              "#bd3786"
             ],
             [
              0.5555555555555556,
              "#d8576b"
             ],
             [
              0.6666666666666666,
              "#ed7953"
             ],
             [
              0.7777777777777778,
              "#fb9f3a"
             ],
             [
              0.8888888888888888,
              "#fdca26"
             ],
             [
              1,
              "#f0f921"
             ]
            ],
            "type": "contour"
           }
          ],
          "contourcarpet": [
           {
            "colorbar": {
             "outlinewidth": 0,
             "ticks": ""
            },
            "type": "contourcarpet"
           }
          ],
          "heatmap": [
           {
            "colorbar": {
             "outlinewidth": 0,
             "ticks": ""
            },
            "colorscale": [
             [
              0,
              "#0d0887"
             ],
             [
              0.1111111111111111,
              "#46039f"
             ],
             [
              0.2222222222222222,
              "#7201a8"
             ],
             [
              0.3333333333333333,
              "#9c179e"
             ],
             [
              0.4444444444444444,
              "#bd3786"
             ],
             [
              0.5555555555555556,
              "#d8576b"
             ],
             [
              0.6666666666666666,
              "#ed7953"
             ],
             [
              0.7777777777777778,
              "#fb9f3a"
             ],
             [
              0.8888888888888888,
              "#fdca26"
             ],
             [
              1,
              "#f0f921"
             ]
            ],
            "type": "heatmap"
           }
          ],
          "heatmapgl": [
           {
            "colorbar": {
             "outlinewidth": 0,
             "ticks": ""
            },
            "colorscale": [
             [
              0,
              "#0d0887"
             ],
             [
              0.1111111111111111,
              "#46039f"
             ],
             [
              0.2222222222222222,
              "#7201a8"
             ],
             [
              0.3333333333333333,
              "#9c179e"
             ],
             [
              0.4444444444444444,
              "#bd3786"
             ],
             [
              0.5555555555555556,
              "#d8576b"
             ],
             [
              0.6666666666666666,
              "#ed7953"
             ],
             [
              0.7777777777777778,
              "#fb9f3a"
             ],
             [
              0.8888888888888888,
              "#fdca26"
             ],
             [
              1,
              "#f0f921"
             ]
            ],
            "type": "heatmapgl"
           }
          ],
          "histogram": [
           {
            "marker": {
             "pattern": {
              "fillmode": "overlay",
              "size": 10,
              "solidity": 0.2
             }
            },
            "type": "histogram"
           }
          ],
          "histogram2d": [
           {
            "colorbar": {
             "outlinewidth": 0,
             "ticks": ""
            },
            "colorscale": [
             [
              0,
              "#0d0887"
             ],
             [
              0.1111111111111111,
              "#46039f"
             ],
             [
              0.2222222222222222,
              "#7201a8"
             ],
             [
              0.3333333333333333,
              "#9c179e"
             ],
             [
              0.4444444444444444,
              "#bd3786"
             ],
             [
              0.5555555555555556,
              "#d8576b"
             ],
             [
              0.6666666666666666,
              "#ed7953"
             ],
             [
              0.7777777777777778,
              "#fb9f3a"
             ],
             [
              0.8888888888888888,
              "#fdca26"
             ],
             [
              1,
              "#f0f921"
             ]
            ],
            "type": "histogram2d"
           }
          ],
          "histogram2dcontour": [
           {
            "colorbar": {
             "outlinewidth": 0,
             "ticks": ""
            },
            "colorscale": [
             [
              0,
              "#0d0887"
             ],
             [
              0.1111111111111111,
              "#46039f"
             ],
             [
              0.2222222222222222,
              "#7201a8"
             ],
             [
              0.3333333333333333,
              "#9c179e"
             ],
             [
              0.4444444444444444,
              "#bd3786"
             ],
             [
              0.5555555555555556,
              "#d8576b"
             ],
             [
              0.6666666666666666,
              "#ed7953"
             ],
             [
              0.7777777777777778,
              "#fb9f3a"
             ],
             [
              0.8888888888888888,
              "#fdca26"
             ],
             [
              1,
              "#f0f921"
             ]
            ],
            "type": "histogram2dcontour"
           }
          ],
          "mesh3d": [
           {
            "colorbar": {
             "outlinewidth": 0,
             "ticks": ""
            },
            "type": "mesh3d"
           }
          ],
          "parcoords": [
           {
            "line": {
             "colorbar": {
              "outlinewidth": 0,
              "ticks": ""
             }
            },
            "type": "parcoords"
           }
          ],
          "pie": [
           {
            "automargin": true,
            "type": "pie"
           }
          ],
          "scatter": [
           {
            "fillpattern": {
             "fillmode": "overlay",
             "size": 10,
             "solidity": 0.2
            },
            "type": "scatter"
           }
          ],
          "scatter3d": [
           {
            "line": {
             "colorbar": {
              "outlinewidth": 0,
              "ticks": ""
             }
            },
            "marker": {
             "colorbar": {
              "outlinewidth": 0,
              "ticks": ""
             }
            },
            "type": "scatter3d"
           }
          ],
          "scattercarpet": [
           {
            "marker": {
             "colorbar": {
              "outlinewidth": 0,
              "ticks": ""
             }
            },
            "type": "scattercarpet"
           }
          ],
          "scattergeo": [
           {
            "marker": {
             "colorbar": {
              "outlinewidth": 0,
              "ticks": ""
             }
            },
            "type": "scattergeo"
           }
          ],
          "scattergl": [
           {
            "marker": {
             "colorbar": {
              "outlinewidth": 0,
              "ticks": ""
             }
            },
            "type": "scattergl"
           }
          ],
          "scattermapbox": [
           {
            "marker": {
             "colorbar": {
              "outlinewidth": 0,
              "ticks": ""
             }
            },
            "type": "scattermapbox"
           }
          ],
          "scatterpolar": [
           {
            "marker": {
             "colorbar": {
              "outlinewidth": 0,
              "ticks": ""
             }
            },
            "type": "scatterpolar"
           }
          ],
          "scatterpolargl": [
           {
            "marker": {
             "colorbar": {
              "outlinewidth": 0,
              "ticks": ""
             }
            },
            "type": "scatterpolargl"
           }
          ],
          "scatterternary": [
           {
            "marker": {
             "colorbar": {
              "outlinewidth": 0,
              "ticks": ""
             }
            },
            "type": "scatterternary"
           }
          ],
          "surface": [
           {
            "colorbar": {
             "outlinewidth": 0,
             "ticks": ""
            },
            "colorscale": [
             [
              0,
              "#0d0887"
             ],
             [
              0.1111111111111111,
              "#46039f"
             ],
             [
              0.2222222222222222,
              "#7201a8"
             ],
             [
              0.3333333333333333,
              "#9c179e"
             ],
             [
              0.4444444444444444,
              "#bd3786"
             ],
             [
              0.5555555555555556,
              "#d8576b"
             ],
             [
              0.6666666666666666,
              "#ed7953"
             ],
             [
              0.7777777777777778,
              "#fb9f3a"
             ],
             [
              0.8888888888888888,
              "#fdca26"
             ],
             [
              1,
              "#f0f921"
             ]
            ],
            "type": "surface"
           }
          ],
          "table": [
           {
            "cells": {
             "fill": {
              "color": "#EBF0F8"
             },
             "line": {
              "color": "white"
             }
            },
            "header": {
             "fill": {
              "color": "#C8D4E3"
             },
             "line": {
              "color": "white"
             }
            },
            "type": "table"
           }
          ]
         },
         "layout": {
          "annotationdefaults": {
           "arrowcolor": "#2a3f5f",
           "arrowhead": 0,
           "arrowwidth": 1
          },
          "autotypenumbers": "strict",
          "coloraxis": {
           "colorbar": {
            "outlinewidth": 0,
            "ticks": ""
           }
          },
          "colorscale": {
           "diverging": [
            [
             0,
             "#8e0152"
            ],
            [
             0.1,
             "#c51b7d"
            ],
            [
             0.2,
             "#de77ae"
            ],
            [
             0.3,
             "#f1b6da"
            ],
            [
             0.4,
             "#fde0ef"
            ],
            [
             0.5,
             "#f7f7f7"
            ],
            [
             0.6,
             "#e6f5d0"
            ],
            [
             0.7,
             "#b8e186"
            ],
            [
             0.8,
             "#7fbc41"
            ],
            [
             0.9,
             "#4d9221"
            ],
            [
             1,
             "#276419"
            ]
           ],
           "sequential": [
            [
             0,
             "#0d0887"
            ],
            [
             0.1111111111111111,
             "#46039f"
            ],
            [
             0.2222222222222222,
             "#7201a8"
            ],
            [
             0.3333333333333333,
             "#9c179e"
            ],
            [
             0.4444444444444444,
             "#bd3786"
            ],
            [
             0.5555555555555556,
             "#d8576b"
            ],
            [
             0.6666666666666666,
             "#ed7953"
            ],
            [
             0.7777777777777778,
             "#fb9f3a"
            ],
            [
             0.8888888888888888,
             "#fdca26"
            ],
            [
             1,
             "#f0f921"
            ]
           ],
           "sequentialminus": [
            [
             0,
             "#0d0887"
            ],
            [
             0.1111111111111111,
             "#46039f"
            ],
            [
             0.2222222222222222,
             "#7201a8"
            ],
            [
             0.3333333333333333,
             "#9c179e"
            ],
            [
             0.4444444444444444,
             "#bd3786"
            ],
            [
             0.5555555555555556,
             "#d8576b"
            ],
            [
             0.6666666666666666,
             "#ed7953"
            ],
            [
             0.7777777777777778,
             "#fb9f3a"
            ],
            [
             0.8888888888888888,
             "#fdca26"
            ],
            [
             1,
             "#f0f921"
            ]
           ]
          },
          "colorway": [
           "#636efa",
           "#EF553B",
           "#00cc96",
           "#ab63fa",
           "#FFA15A",
           "#19d3f3",
           "#FF6692",
           "#B6E880",
           "#FF97FF",
           "#FECB52"
          ],
          "font": {
           "color": "#2a3f5f"
          },
          "geo": {
           "bgcolor": "white",
           "lakecolor": "white",
           "landcolor": "#E5ECF6",
           "showlakes": true,
           "showland": true,
           "subunitcolor": "white"
          },
          "hoverlabel": {
           "align": "left"
          },
          "hovermode": "closest",
          "mapbox": {
           "style": "light"
          },
          "paper_bgcolor": "white",
          "plot_bgcolor": "#E5ECF6",
          "polar": {
           "angularaxis": {
            "gridcolor": "white",
            "linecolor": "white",
            "ticks": ""
           },
           "bgcolor": "#E5ECF6",
           "radialaxis": {
            "gridcolor": "white",
            "linecolor": "white",
            "ticks": ""
           }
          },
          "scene": {
           "xaxis": {
            "backgroundcolor": "#E5ECF6",
            "gridcolor": "white",
            "gridwidth": 2,
            "linecolor": "white",
            "showbackground": true,
            "ticks": "",
            "zerolinecolor": "white"
           },
           "yaxis": {
            "backgroundcolor": "#E5ECF6",
            "gridcolor": "white",
            "gridwidth": 2,
            "linecolor": "white",
            "showbackground": true,
            "ticks": "",
            "zerolinecolor": "white"
           },
           "zaxis": {
            "backgroundcolor": "#E5ECF6",
            "gridcolor": "white",
            "gridwidth": 2,
            "linecolor": "white",
            "showbackground": true,
            "ticks": "",
            "zerolinecolor": "white"
           }
          },
          "shapedefaults": {
           "line": {
            "color": "#2a3f5f"
           }
          },
          "ternary": {
           "aaxis": {
            "gridcolor": "white",
            "linecolor": "white",
            "ticks": ""
           },
           "baxis": {
            "gridcolor": "white",
            "linecolor": "white",
            "ticks": ""
           },
           "bgcolor": "#E5ECF6",
           "caxis": {
            "gridcolor": "white",
            "linecolor": "white",
            "ticks": ""
           }
          },
          "title": {
           "x": 0.05
          },
          "xaxis": {
           "automargin": true,
           "gridcolor": "white",
           "linecolor": "white",
           "ticks": "",
           "title": {
            "standoff": 15
           },
           "zerolinecolor": "white",
           "zerolinewidth": 2
          },
          "yaxis": {
           "automargin": true,
           "gridcolor": "white",
           "linecolor": "white",
           "ticks": "",
           "title": {
            "standoff": 15
           },
           "zerolinecolor": "white",
           "zerolinewidth": 2
          }
         }
        },
        "title": {
         "text": "Tipo de Armas Usadas"
        },
        "xaxis": {
         "anchor": "y",
         "domain": [
          0,
          1
         ],
         "title": {
          "text": "ARMAS MEDIOS"
         }
        },
        "yaxis": {
         "anchor": "x",
         "domain": [
          0,
          1
         ],
         "title": {
          "text": "CANTIDAD"
         }
        }
       }
      }
     },
     "metadata": {},
     "output_type": "display_data"
    }
   ],
   "source": [
    "print(tipo_de_arma.head())\n",
    "\n",
    "# Crear un gráfico de barras con Plotly\n",
    "tipo_de_arma_graph = px.bar(\n",
    "    tipo_de_arma,  # DataFrame que contiene los datos\n",
    "    x='ARMAS MEDIOS',  \n",
    "    y='CANTIDAD',  \n",
    "    text_auto='.2s',  \n",
    "    title='Tipo de Armas Usadas'\n",
    ")\n",
    "\n",
    "# Actualizar el trazado para personalizar el texto\n",
    "tipo_de_arma_graph.update_traces(\n",
    "    textfont_size=12,  \n",
    "    textangle=0,  \n",
    "    textposition=\"outside\",  # texto fuera de las barras\n",
    "    cliponaxis=False  # Permite que el texto sobresalga fuera del eje\n",
    ")\n",
    "\n",
    "# Mostrar el gráfico\n",
    "tipo_de_arma_graph.show()\n",
    "tipo_de_arma_graph.write_html('graphics/weapon.html') #usado para crear el grafico\n",
    "\n",
    " "
   ]
  },
  {
   "cell_type": "markdown",
   "metadata": {},
   "source": [
    "Genero"
   ]
  },
  {
   "cell_type": "code",
   "execution_count": 1153,
   "metadata": {},
   "outputs": [
    {
     "name": "stdout",
     "output_type": "stream",
     "text": [
      "GENERO\n",
      "-                  7\n",
      "FEMENINO      505169\n",
      "MASCULINO     164107\n",
      "NO REPORTA      1249\n",
      "Name: CANTIDAD, dtype: int64\n"
     ]
    }
   ],
   "source": [
    "# Agrupar por 'GENERO' y contar la cantidad de ocurrencias en la columna 'CANTIDAD'\n",
    "casos_por_genero = df.groupby('GENERO')['CANTIDAD'].count()\n",
    "\n",
    "# Mostrar el resultado\n",
    "print(casos_por_genero)\n"
   ]
  },
  {
   "cell_type": "code",
   "execution_count": 1154,
   "metadata": {},
   "outputs": [
    {
     "name": "stdout",
     "output_type": "stream",
     "text": [
      "        GENERO         ARMAS MEDIOS  CANTIDAD\n",
      "0            -          ARMA BLANCA         4\n",
      "1            -  SIN EMPLEO DE ARMAS         3\n",
      "2     FEMENINO          ARMA BLANCA    268614\n",
      "3     FEMENINO        ARMA DE FUEGO      2470\n",
      "4     FEMENINO         ESCOPOLAMINA      2984\n",
      "5     FEMENINO           NO REPORTA     57046\n",
      "6     FEMENINO  SIN EMPLEO DE ARMAS    174055\n",
      "7    MASCULINO          ARMA BLANCA     81462\n",
      "8    MASCULINO        ARMA DE FUEGO       479\n",
      "9    MASCULINO         ESCOPOLAMINA       877\n",
      "10   MASCULINO           NO REPORTA     19203\n",
      "11   MASCULINO  SIN EMPLEO DE ARMAS     62086\n",
      "12  NO REPORTA          ARMA BLANCA       187\n",
      "13  NO REPORTA         ESCOPOLAMINA         2\n",
      "14  NO REPORTA           NO REPORTA       108\n",
      "15  NO REPORTA  SIN EMPLEO DE ARMAS       952\n"
     ]
    }
   ],
   "source": [
    "# Crear la tabla dinámica\n",
    "df_genero_armas = pd.pivot_table(\n",
    "    df, \n",
    "    index=('GENERO', 'ARMAS MEDIOS'),  # Agrupar por 'GENERO' y 'ARMAS MEDIOS'\n",
    "    values='CANTIDAD',\n",
    "    aggfunc='count'\n",
    ").reset_index()\n",
    "\n",
    "# Mostrar el resultado\n",
    "print(df_genero_armas)\n"
   ]
  },
  {
   "cell_type": "code",
   "execution_count": 1155,
   "metadata": {},
   "outputs": [
    {
     "name": "stdout",
     "output_type": "stream",
     "text": [
      "       GENERO         ARMAS MEDIOS  CANTIDAD\n",
      "0           -          ARMA BLANCA         4\n",
      "1           -  SIN EMPLEO DE ARMAS         3\n",
      "2    FEMENINO          ARMA BLANCA    268614\n",
      "3    FEMENINO        ARMA DE FUEGO      2470\n",
      "4    FEMENINO         ESCOPOLAMINA      2984\n",
      "5    FEMENINO           NO REPORTA     57046\n",
      "6    FEMENINO  SIN EMPLEO DE ARMAS    174055\n",
      "7   MASCULINO          ARMA BLANCA     81462\n",
      "8   MASCULINO        ARMA DE FUEGO       479\n",
      "9   MASCULINO         ESCOPOLAMINA       877\n",
      "10  MASCULINO           NO REPORTA     19203\n",
      "11  MASCULINO  SIN EMPLEO DE ARMAS     62086\n"
     ]
    }
   ],
   "source": [
    "# Reemplazar el valor 'NO REPORTA' por NaN en la columna 'GENERO'\n",
    "df_genero_armas['GENERO'] = df_genero_armas['GENERO'].replace({'NO REPORTA': pd.NA})\n",
    "# Eliminar filas NaN\n",
    "df_genero_armas = df_genero_armas[~df_genero_armas['GENERO'].isnull()]\n",
    "\n",
    "print(df_genero_armas)"
   ]
  },
  {
   "cell_type": "code",
   "execution_count": 1156,
   "metadata": {},
   "outputs": [
    {
     "data": {
      "application/vnd.plotly.v1+json": {
       "config": {
        "plotlyServerURL": "https://plot.ly"
       },
       "data": [
        {
         "alignmentgroup": "True",
         "cliponaxis": false,
         "hovertemplate": "GENERO=FEMENINO<br>Número de casos=%{x}<br>Tipo de Arma=%{y}<extra></extra>",
         "legendgroup": "FEMENINO",
         "marker": {
          "color": "red",
          "pattern": {
           "shape": ""
          }
         },
         "name": "FEMENINO",
         "offsetgroup": "FEMENINO",
         "orientation": "h",
         "showlegend": true,
         "textangle": 0,
         "textfont": {
          "size": 12
         },
         "textposition": "outside",
         "texttemplate": "%{x:.2s}",
         "type": "bar",
         "x": [
          424338,
          418764,
          118312,
          6141,
          2573
         ],
         "xaxis": "x",
         "y": [
          "ARMA BLANCA",
          "SIN EMPLEO DE ARMAS",
          "NO REPORTA",
          "ESCOPOLAMINA",
          "ARMA DE FUEGO"
         ],
         "yaxis": "y"
        },
        {
         "alignmentgroup": "True",
         "cliponaxis": false,
         "hovertemplate": "GENERO=MASCULINO<br>Número de casos=%{x}<br>Tipo de Arma=%{y}<extra></extra>",
         "legendgroup": "MASCULINO",
         "marker": {
          "color": "blue",
          "pattern": {
           "shape": ""
          }
         },
         "name": "MASCULINO",
         "offsetgroup": "MASCULINO",
         "orientation": "h",
         "showlegend": true,
         "textangle": 0,
         "textfont": {
          "size": 12
         },
         "textposition": "outside",
         "texttemplate": "%{x:.2s}",
         "type": "bar",
         "x": [
          135182,
          100859,
          36234,
          1149,
          516
         ],
         "xaxis": "x",
         "y": [
          "SIN EMPLEO DE ARMAS",
          "ARMA BLANCA",
          "NO REPORTA",
          "ESCOPOLAMINA",
          "ARMA DE FUEGO"
         ],
         "yaxis": "y"
        },
        {
         "alignmentgroup": "True",
         "cliponaxis": false,
         "hovertemplate": "GENERO=NO REPORTA<br>Número de casos=%{x}<br>Tipo de Arma=%{y}<extra></extra>",
         "legendgroup": "NO REPORTA",
         "marker": {
          "color": "green",
          "pattern": {
           "shape": ""
          }
         },
         "name": "NO REPORTA",
         "offsetgroup": "NO REPORTA",
         "orientation": "h",
         "showlegend": true,
         "textangle": 0,
         "textfont": {
          "size": 12
         },
         "textposition": "outside",
         "texttemplate": "%{x:.2s}",
         "type": "bar",
         "x": [
          1131,
          193,
          119,
          4
         ],
         "xaxis": "x",
         "y": [
          "SIN EMPLEO DE ARMAS",
          "ARMA BLANCA",
          "NO REPORTA",
          "ESCOPOLAMINA"
         ],
         "yaxis": "y"
        },
        {
         "alignmentgroup": "True",
         "cliponaxis": false,
         "hovertemplate": "GENERO=-<br>Número de casos=%{x}<br>Tipo de Arma=%{y}<extra></extra>",
         "legendgroup": "-",
         "marker": {
          "color": "#ab63fa",
          "pattern": {
           "shape": ""
          }
         },
         "name": "-",
         "offsetgroup": "-",
         "orientation": "h",
         "showlegend": true,
         "textangle": 0,
         "textfont": {
          "size": 12
         },
         "textposition": "outside",
         "texttemplate": "%{x:.2s}",
         "type": "bar",
         "x": [
          5,
          3
         ],
         "xaxis": "x",
         "y": [
          "ARMA BLANCA",
          "SIN EMPLEO DE ARMAS"
         ],
         "yaxis": "y"
        }
       ],
       "layout": {
        "barmode": "group",
        "height": 400,
        "legend": {
         "title": {
          "text": "GENERO"
         },
         "tracegroupgap": 0
        },
        "template": {
         "data": {
          "bar": [
           {
            "error_x": {
             "color": "#2a3f5f"
            },
            "error_y": {
             "color": "#2a3f5f"
            },
            "marker": {
             "line": {
              "color": "#E5ECF6",
              "width": 0.5
             },
             "pattern": {
              "fillmode": "overlay",
              "size": 10,
              "solidity": 0.2
             }
            },
            "type": "bar"
           }
          ],
          "barpolar": [
           {
            "marker": {
             "line": {
              "color": "#E5ECF6",
              "width": 0.5
             },
             "pattern": {
              "fillmode": "overlay",
              "size": 10,
              "solidity": 0.2
             }
            },
            "type": "barpolar"
           }
          ],
          "carpet": [
           {
            "aaxis": {
             "endlinecolor": "#2a3f5f",
             "gridcolor": "white",
             "linecolor": "white",
             "minorgridcolor": "white",
             "startlinecolor": "#2a3f5f"
            },
            "baxis": {
             "endlinecolor": "#2a3f5f",
             "gridcolor": "white",
             "linecolor": "white",
             "minorgridcolor": "white",
             "startlinecolor": "#2a3f5f"
            },
            "type": "carpet"
           }
          ],
          "choropleth": [
           {
            "colorbar": {
             "outlinewidth": 0,
             "ticks": ""
            },
            "type": "choropleth"
           }
          ],
          "contour": [
           {
            "colorbar": {
             "outlinewidth": 0,
             "ticks": ""
            },
            "colorscale": [
             [
              0,
              "#0d0887"
             ],
             [
              0.1111111111111111,
              "#46039f"
             ],
             [
              0.2222222222222222,
              "#7201a8"
             ],
             [
              0.3333333333333333,
              "#9c179e"
             ],
             [
              0.4444444444444444,
              "#bd3786"
             ],
             [
              0.5555555555555556,
              "#d8576b"
             ],
             [
              0.6666666666666666,
              "#ed7953"
             ],
             [
              0.7777777777777778,
              "#fb9f3a"
             ],
             [
              0.8888888888888888,
              "#fdca26"
             ],
             [
              1,
              "#f0f921"
             ]
            ],
            "type": "contour"
           }
          ],
          "contourcarpet": [
           {
            "colorbar": {
             "outlinewidth": 0,
             "ticks": ""
            },
            "type": "contourcarpet"
           }
          ],
          "heatmap": [
           {
            "colorbar": {
             "outlinewidth": 0,
             "ticks": ""
            },
            "colorscale": [
             [
              0,
              "#0d0887"
             ],
             [
              0.1111111111111111,
              "#46039f"
             ],
             [
              0.2222222222222222,
              "#7201a8"
             ],
             [
              0.3333333333333333,
              "#9c179e"
             ],
             [
              0.4444444444444444,
              "#bd3786"
             ],
             [
              0.5555555555555556,
              "#d8576b"
             ],
             [
              0.6666666666666666,
              "#ed7953"
             ],
             [
              0.7777777777777778,
              "#fb9f3a"
             ],
             [
              0.8888888888888888,
              "#fdca26"
             ],
             [
              1,
              "#f0f921"
             ]
            ],
            "type": "heatmap"
           }
          ],
          "heatmapgl": [
           {
            "colorbar": {
             "outlinewidth": 0,
             "ticks": ""
            },
            "colorscale": [
             [
              0,
              "#0d0887"
             ],
             [
              0.1111111111111111,
              "#46039f"
             ],
             [
              0.2222222222222222,
              "#7201a8"
             ],
             [
              0.3333333333333333,
              "#9c179e"
             ],
             [
              0.4444444444444444,
              "#bd3786"
             ],
             [
              0.5555555555555556,
              "#d8576b"
             ],
             [
              0.6666666666666666,
              "#ed7953"
             ],
             [
              0.7777777777777778,
              "#fb9f3a"
             ],
             [
              0.8888888888888888,
              "#fdca26"
             ],
             [
              1,
              "#f0f921"
             ]
            ],
            "type": "heatmapgl"
           }
          ],
          "histogram": [
           {
            "marker": {
             "pattern": {
              "fillmode": "overlay",
              "size": 10,
              "solidity": 0.2
             }
            },
            "type": "histogram"
           }
          ],
          "histogram2d": [
           {
            "colorbar": {
             "outlinewidth": 0,
             "ticks": ""
            },
            "colorscale": [
             [
              0,
              "#0d0887"
             ],
             [
              0.1111111111111111,
              "#46039f"
             ],
             [
              0.2222222222222222,
              "#7201a8"
             ],
             [
              0.3333333333333333,
              "#9c179e"
             ],
             [
              0.4444444444444444,
              "#bd3786"
             ],
             [
              0.5555555555555556,
              "#d8576b"
             ],
             [
              0.6666666666666666,
              "#ed7953"
             ],
             [
              0.7777777777777778,
              "#fb9f3a"
             ],
             [
              0.8888888888888888,
              "#fdca26"
             ],
             [
              1,
              "#f0f921"
             ]
            ],
            "type": "histogram2d"
           }
          ],
          "histogram2dcontour": [
           {
            "colorbar": {
             "outlinewidth": 0,
             "ticks": ""
            },
            "colorscale": [
             [
              0,
              "#0d0887"
             ],
             [
              0.1111111111111111,
              "#46039f"
             ],
             [
              0.2222222222222222,
              "#7201a8"
             ],
             [
              0.3333333333333333,
              "#9c179e"
             ],
             [
              0.4444444444444444,
              "#bd3786"
             ],
             [
              0.5555555555555556,
              "#d8576b"
             ],
             [
              0.6666666666666666,
              "#ed7953"
             ],
             [
              0.7777777777777778,
              "#fb9f3a"
             ],
             [
              0.8888888888888888,
              "#fdca26"
             ],
             [
              1,
              "#f0f921"
             ]
            ],
            "type": "histogram2dcontour"
           }
          ],
          "mesh3d": [
           {
            "colorbar": {
             "outlinewidth": 0,
             "ticks": ""
            },
            "type": "mesh3d"
           }
          ],
          "parcoords": [
           {
            "line": {
             "colorbar": {
              "outlinewidth": 0,
              "ticks": ""
             }
            },
            "type": "parcoords"
           }
          ],
          "pie": [
           {
            "automargin": true,
            "type": "pie"
           }
          ],
          "scatter": [
           {
            "fillpattern": {
             "fillmode": "overlay",
             "size": 10,
             "solidity": 0.2
            },
            "type": "scatter"
           }
          ],
          "scatter3d": [
           {
            "line": {
             "colorbar": {
              "outlinewidth": 0,
              "ticks": ""
             }
            },
            "marker": {
             "colorbar": {
              "outlinewidth": 0,
              "ticks": ""
             }
            },
            "type": "scatter3d"
           }
          ],
          "scattercarpet": [
           {
            "marker": {
             "colorbar": {
              "outlinewidth": 0,
              "ticks": ""
             }
            },
            "type": "scattercarpet"
           }
          ],
          "scattergeo": [
           {
            "marker": {
             "colorbar": {
              "outlinewidth": 0,
              "ticks": ""
             }
            },
            "type": "scattergeo"
           }
          ],
          "scattergl": [
           {
            "marker": {
             "colorbar": {
              "outlinewidth": 0,
              "ticks": ""
             }
            },
            "type": "scattergl"
           }
          ],
          "scattermapbox": [
           {
            "marker": {
             "colorbar": {
              "outlinewidth": 0,
              "ticks": ""
             }
            },
            "type": "scattermapbox"
           }
          ],
          "scatterpolar": [
           {
            "marker": {
             "colorbar": {
              "outlinewidth": 0,
              "ticks": ""
             }
            },
            "type": "scatterpolar"
           }
          ],
          "scatterpolargl": [
           {
            "marker": {
             "colorbar": {
              "outlinewidth": 0,
              "ticks": ""
             }
            },
            "type": "scatterpolargl"
           }
          ],
          "scatterternary": [
           {
            "marker": {
             "colorbar": {
              "outlinewidth": 0,
              "ticks": ""
             }
            },
            "type": "scatterternary"
           }
          ],
          "surface": [
           {
            "colorbar": {
             "outlinewidth": 0,
             "ticks": ""
            },
            "colorscale": [
             [
              0,
              "#0d0887"
             ],
             [
              0.1111111111111111,
              "#46039f"
             ],
             [
              0.2222222222222222,
              "#7201a8"
             ],
             [
              0.3333333333333333,
              "#9c179e"
             ],
             [
              0.4444444444444444,
              "#bd3786"
             ],
             [
              0.5555555555555556,
              "#d8576b"
             ],
             [
              0.6666666666666666,
              "#ed7953"
             ],
             [
              0.7777777777777778,
              "#fb9f3a"
             ],
             [
              0.8888888888888888,
              "#fdca26"
             ],
             [
              1,
              "#f0f921"
             ]
            ],
            "type": "surface"
           }
          ],
          "table": [
           {
            "cells": {
             "fill": {
              "color": "#EBF0F8"
             },
             "line": {
              "color": "white"
             }
            },
            "header": {
             "fill": {
              "color": "#C8D4E3"
             },
             "line": {
              "color": "white"
             }
            },
            "type": "table"
           }
          ]
         },
         "layout": {
          "annotationdefaults": {
           "arrowcolor": "#2a3f5f",
           "arrowhead": 0,
           "arrowwidth": 1
          },
          "autotypenumbers": "strict",
          "coloraxis": {
           "colorbar": {
            "outlinewidth": 0,
            "ticks": ""
           }
          },
          "colorscale": {
           "diverging": [
            [
             0,
             "#8e0152"
            ],
            [
             0.1,
             "#c51b7d"
            ],
            [
             0.2,
             "#de77ae"
            ],
            [
             0.3,
             "#f1b6da"
            ],
            [
             0.4,
             "#fde0ef"
            ],
            [
             0.5,
             "#f7f7f7"
            ],
            [
             0.6,
             "#e6f5d0"
            ],
            [
             0.7,
             "#b8e186"
            ],
            [
             0.8,
             "#7fbc41"
            ],
            [
             0.9,
             "#4d9221"
            ],
            [
             1,
             "#276419"
            ]
           ],
           "sequential": [
            [
             0,
             "#0d0887"
            ],
            [
             0.1111111111111111,
             "#46039f"
            ],
            [
             0.2222222222222222,
             "#7201a8"
            ],
            [
             0.3333333333333333,
             "#9c179e"
            ],
            [
             0.4444444444444444,
             "#bd3786"
            ],
            [
             0.5555555555555556,
             "#d8576b"
            ],
            [
             0.6666666666666666,
             "#ed7953"
            ],
            [
             0.7777777777777778,
             "#fb9f3a"
            ],
            [
             0.8888888888888888,
             "#fdca26"
            ],
            [
             1,
             "#f0f921"
            ]
           ],
           "sequentialminus": [
            [
             0,
             "#0d0887"
            ],
            [
             0.1111111111111111,
             "#46039f"
            ],
            [
             0.2222222222222222,
             "#7201a8"
            ],
            [
             0.3333333333333333,
             "#9c179e"
            ],
            [
             0.4444444444444444,
             "#bd3786"
            ],
            [
             0.5555555555555556,
             "#d8576b"
            ],
            [
             0.6666666666666666,
             "#ed7953"
            ],
            [
             0.7777777777777778,
             "#fb9f3a"
            ],
            [
             0.8888888888888888,
             "#fdca26"
            ],
            [
             1,
             "#f0f921"
            ]
           ]
          },
          "colorway": [
           "#636efa",
           "#EF553B",
           "#00cc96",
           "#ab63fa",
           "#FFA15A",
           "#19d3f3",
           "#FF6692",
           "#B6E880",
           "#FF97FF",
           "#FECB52"
          ],
          "font": {
           "color": "#2a3f5f"
          },
          "geo": {
           "bgcolor": "white",
           "lakecolor": "white",
           "landcolor": "#E5ECF6",
           "showlakes": true,
           "showland": true,
           "subunitcolor": "white"
          },
          "hoverlabel": {
           "align": "left"
          },
          "hovermode": "closest",
          "mapbox": {
           "style": "light"
          },
          "paper_bgcolor": "white",
          "plot_bgcolor": "#E5ECF6",
          "polar": {
           "angularaxis": {
            "gridcolor": "white",
            "linecolor": "white",
            "ticks": ""
           },
           "bgcolor": "#E5ECF6",
           "radialaxis": {
            "gridcolor": "white",
            "linecolor": "white",
            "ticks": ""
           }
          },
          "scene": {
           "xaxis": {
            "backgroundcolor": "#E5ECF6",
            "gridcolor": "white",
            "gridwidth": 2,
            "linecolor": "white",
            "showbackground": true,
            "ticks": "",
            "zerolinecolor": "white"
           },
           "yaxis": {
            "backgroundcolor": "#E5ECF6",
            "gridcolor": "white",
            "gridwidth": 2,
            "linecolor": "white",
            "showbackground": true,
            "ticks": "",
            "zerolinecolor": "white"
           },
           "zaxis": {
            "backgroundcolor": "#E5ECF6",
            "gridcolor": "white",
            "gridwidth": 2,
            "linecolor": "white",
            "showbackground": true,
            "ticks": "",
            "zerolinecolor": "white"
           }
          },
          "shapedefaults": {
           "line": {
            "color": "#2a3f5f"
           }
          },
          "ternary": {
           "aaxis": {
            "gridcolor": "white",
            "linecolor": "white",
            "ticks": ""
           },
           "baxis": {
            "gridcolor": "white",
            "linecolor": "white",
            "ticks": ""
           },
           "bgcolor": "#E5ECF6",
           "caxis": {
            "gridcolor": "white",
            "linecolor": "white",
            "ticks": ""
           }
          },
          "title": {
           "x": 0.05
          },
          "xaxis": {
           "automargin": true,
           "gridcolor": "white",
           "linecolor": "white",
           "ticks": "",
           "title": {
            "standoff": 15
           },
           "zerolinecolor": "white",
           "zerolinewidth": 2
          },
          "yaxis": {
           "automargin": true,
           "gridcolor": "white",
           "linecolor": "white",
           "ticks": "",
           "title": {
            "standoff": 15
           },
           "zerolinecolor": "white",
           "zerolinewidth": 2
          }
         }
        },
        "title": {
         "text": "Gráfico de género y número de casos según tipo de arma"
        },
        "xaxis": {
         "anchor": "y",
         "domain": [
          0,
          1
         ],
         "title": {
          "text": "Número de casos"
         }
        },
        "yaxis": {
         "anchor": "x",
         "domain": [
          0,
          1
         ],
         "title": {
          "text": "Tipo de Arma"
         }
        }
       }
      }
     },
     "metadata": {},
     "output_type": "display_data"
    }
   ],
   "source": [
    "# Crear tabla pivote\n",
    "df_genero_armas = pd.pivot_table(\n",
    "    df,\n",
    "    index=('GENERO', 'ARMAS MEDIOS'),\n",
    "    values='CANTIDAD',\n",
    "    aggfunc='sum'\n",
    ").reset_index()\n",
    "\n",
    "df_genero_armas = df_genero_armas.sort_values(by='CANTIDAD', ascending=False)\n",
    "\n",
    "# Graph properties\n",
    "fig_genero = px.bar(\n",
    "    df_genero_armas,\n",
    "    x='CANTIDAD',\n",
    "    y='ARMAS MEDIOS',\n",
    "    color='GENERO',  \n",
    "    barmode='group',\n",
    "    text_auto='.2s',\n",
    "    title=\"Gráfico de género y número de casos según tipo de arma\",\n",
    "    labels={'CANTIDAD': 'Número de casos', 'ARMAS MEDIOS': 'Tipo de Arma'},\n",
    "    color_discrete_map=color_map,\n",
    "    height=400\n",
    ")\n",
    "\n",
    "# Properties\n",
    "fig_genero.update_traces(\n",
    "    textfont_size=12,\n",
    "    textangle=0,\n",
    "    textposition=\"outside\",\n",
    "    cliponaxis=False\n",
    ")\n",
    "\n",
    "# Show\n",
    "fig_genero.show()\n",
    "fig_genero.write_html('graphics/genre.html')\n"
   ]
  },
  {
   "cell_type": "markdown",
   "metadata": {},
   "source": [
    "Como se relaciona el Genero con el Grupo Etario (edad)\n",
    "la mayoría de los individuos afectados son mujeres adultas, mientras que el número de menores afectados varía poco entre hombres y mujeres."
   ]
  },
  {
   "cell_type": "code",
   "execution_count": 1157,
   "metadata": {},
   "outputs": [
    {
     "data": {
      "text/plain": [
       "GENERO      GRUPO ETARIO\n",
       "-           nan                  7\n",
       "FEMENINO    ADOLESCENTES     28809\n",
       "            ADULTOS         455443\n",
       "            MENORES          19915\n",
       "            NO REPORTA           1\n",
       "            nan               1001\n",
       "MASCULINO   ADOLESCENTES     13236\n",
       "            ADULTOS         128503\n",
       "            MENORES          21765\n",
       "            nan                603\n",
       "NO REPORTA  ADULTOS             18\n",
       "            MENORES              2\n",
       "            NO REPORTA        1229\n",
       "Name: CANTIDAD, dtype: int64"
      ]
     },
     "execution_count": 1157,
     "metadata": {},
     "output_type": "execute_result"
    }
   ],
   "source": [
    "df.groupby(['GENERO', 'GRUPO ETARIO'])['CANTIDAD'].count()"
   ]
  },
  {
   "cell_type": "code",
   "execution_count": 1158,
   "metadata": {},
   "outputs": [
    {
     "name": "stdout",
     "output_type": "stream",
     "text": [
      "        GENERO  GRUPO ETARIO  CANTIDAD\n",
      "2     FEMENINO       ADULTOS    455443\n",
      "7    MASCULINO       ADULTOS    128503\n",
      "1     FEMENINO  ADOLESCENTES     28809\n",
      "8    MASCULINO       MENORES     21765\n",
      "3     FEMENINO       MENORES     19915\n",
      "6    MASCULINO  ADOLESCENTES     13236\n",
      "12  NO REPORTA    NO REPORTA      1229\n",
      "5     FEMENINO           nan      1001\n",
      "9    MASCULINO           nan       603\n",
      "10  NO REPORTA       ADULTOS        18\n",
      "0            -           nan         7\n",
      "11  NO REPORTA       MENORES         2\n",
      "4     FEMENINO    NO REPORTA         1\n"
     ]
    }
   ],
   "source": [
    "# Agrupa por 'GENERO' y 'GRUPO ETARIO'\n",
    "df_genero_edad = pd.pivot_table(\n",
    "    df, \n",
    "    index=('GENERO', 'GRUPO ETARIO'),  \n",
    "    values='CANTIDAD',  \n",
    "    aggfunc='count'\n",
    ").reset_index()\n",
    "\n",
    "df_genero_edad = df_genero_edad.sort_values(by='CANTIDAD', ascending=False)\n",
    "\n",
    "print(df_genero_edad)"
   ]
  },
  {
   "cell_type": "code",
   "execution_count": 1159,
   "metadata": {},
   "outputs": [
    {
     "data": {
      "application/vnd.plotly.v1+json": {
       "config": {
        "plotlyServerURL": "https://plot.ly"
       },
       "data": [
        {
         "alignmentgroup": "True",
         "cliponaxis": false,
         "hovertemplate": "Género=FEMENINO<br>Número de casos=%{x}<br>GRUPO ETARIO=%{y}<extra></extra>",
         "legendgroup": "FEMENINO",
         "marker": {
          "color": "red",
          "pattern": {
           "shape": ""
          }
         },
         "name": "FEMENINO",
         "offsetgroup": "FEMENINO",
         "orientation": "h",
         "showlegend": true,
         "textangle": 0,
         "textfont": {
          "size": 12
         },
         "textposition": "outside",
         "texttemplate": "%{x:.2s}",
         "type": "bar",
         "x": [
          455443,
          28809,
          19915,
          1001,
          1
         ],
         "xaxis": "x",
         "y": [
          "ADULTOS",
          "ADOLESCENTES",
          "MENORES",
          "nan",
          "NO REPORTA"
         ],
         "yaxis": "y"
        },
        {
         "alignmentgroup": "True",
         "cliponaxis": false,
         "hovertemplate": "Género=MASCULINO<br>Número de casos=%{x}<br>GRUPO ETARIO=%{y}<extra></extra>",
         "legendgroup": "MASCULINO",
         "marker": {
          "color": "blue",
          "pattern": {
           "shape": ""
          }
         },
         "name": "MASCULINO",
         "offsetgroup": "MASCULINO",
         "orientation": "h",
         "showlegend": true,
         "textangle": 0,
         "textfont": {
          "size": 12
         },
         "textposition": "outside",
         "texttemplate": "%{x:.2s}",
         "type": "bar",
         "x": [
          128503,
          21765,
          13236,
          603
         ],
         "xaxis": "x",
         "y": [
          "ADULTOS",
          "MENORES",
          "ADOLESCENTES",
          "nan"
         ],
         "yaxis": "y"
        },
        {
         "alignmentgroup": "True",
         "cliponaxis": false,
         "hovertemplate": "Género=NO REPORTA<br>Número de casos=%{x}<br>GRUPO ETARIO=%{y}<extra></extra>",
         "legendgroup": "NO REPORTA",
         "marker": {
          "color": "green",
          "pattern": {
           "shape": ""
          }
         },
         "name": "NO REPORTA",
         "offsetgroup": "NO REPORTA",
         "orientation": "h",
         "showlegend": true,
         "textangle": 0,
         "textfont": {
          "size": 12
         },
         "textposition": "outside",
         "texttemplate": "%{x:.2s}",
         "type": "bar",
         "x": [
          1229,
          18,
          2
         ],
         "xaxis": "x",
         "y": [
          "NO REPORTA",
          "ADULTOS",
          "MENORES"
         ],
         "yaxis": "y"
        },
        {
         "alignmentgroup": "True",
         "cliponaxis": false,
         "hovertemplate": "Género=-<br>Número de casos=%{x}<br>GRUPO ETARIO=%{y}<extra></extra>",
         "legendgroup": "-",
         "marker": {
          "color": "#ab63fa",
          "pattern": {
           "shape": ""
          }
         },
         "name": "-",
         "offsetgroup": "-",
         "orientation": "h",
         "showlegend": true,
         "textangle": 0,
         "textfont": {
          "size": 12
         },
         "textposition": "outside",
         "texttemplate": "%{x:.2s}",
         "type": "bar",
         "x": [
          7
         ],
         "xaxis": "x",
         "y": [
          "nan"
         ],
         "yaxis": "y"
        }
       ],
       "layout": {
        "barmode": "group",
        "height": 400,
        "legend": {
         "title": {
          "text": "Género"
         },
         "tracegroupgap": 0
        },
        "template": {
         "data": {
          "bar": [
           {
            "error_x": {
             "color": "#2a3f5f"
            },
            "error_y": {
             "color": "#2a3f5f"
            },
            "marker": {
             "line": {
              "color": "#E5ECF6",
              "width": 0.5
             },
             "pattern": {
              "fillmode": "overlay",
              "size": 10,
              "solidity": 0.2
             }
            },
            "type": "bar"
           }
          ],
          "barpolar": [
           {
            "marker": {
             "line": {
              "color": "#E5ECF6",
              "width": 0.5
             },
             "pattern": {
              "fillmode": "overlay",
              "size": 10,
              "solidity": 0.2
             }
            },
            "type": "barpolar"
           }
          ],
          "carpet": [
           {
            "aaxis": {
             "endlinecolor": "#2a3f5f",
             "gridcolor": "white",
             "linecolor": "white",
             "minorgridcolor": "white",
             "startlinecolor": "#2a3f5f"
            },
            "baxis": {
             "endlinecolor": "#2a3f5f",
             "gridcolor": "white",
             "linecolor": "white",
             "minorgridcolor": "white",
             "startlinecolor": "#2a3f5f"
            },
            "type": "carpet"
           }
          ],
          "choropleth": [
           {
            "colorbar": {
             "outlinewidth": 0,
             "ticks": ""
            },
            "type": "choropleth"
           }
          ],
          "contour": [
           {
            "colorbar": {
             "outlinewidth": 0,
             "ticks": ""
            },
            "colorscale": [
             [
              0,
              "#0d0887"
             ],
             [
              0.1111111111111111,
              "#46039f"
             ],
             [
              0.2222222222222222,
              "#7201a8"
             ],
             [
              0.3333333333333333,
              "#9c179e"
             ],
             [
              0.4444444444444444,
              "#bd3786"
             ],
             [
              0.5555555555555556,
              "#d8576b"
             ],
             [
              0.6666666666666666,
              "#ed7953"
             ],
             [
              0.7777777777777778,
              "#fb9f3a"
             ],
             [
              0.8888888888888888,
              "#fdca26"
             ],
             [
              1,
              "#f0f921"
             ]
            ],
            "type": "contour"
           }
          ],
          "contourcarpet": [
           {
            "colorbar": {
             "outlinewidth": 0,
             "ticks": ""
            },
            "type": "contourcarpet"
           }
          ],
          "heatmap": [
           {
            "colorbar": {
             "outlinewidth": 0,
             "ticks": ""
            },
            "colorscale": [
             [
              0,
              "#0d0887"
             ],
             [
              0.1111111111111111,
              "#46039f"
             ],
             [
              0.2222222222222222,
              "#7201a8"
             ],
             [
              0.3333333333333333,
              "#9c179e"
             ],
             [
              0.4444444444444444,
              "#bd3786"
             ],
             [
              0.5555555555555556,
              "#d8576b"
             ],
             [
              0.6666666666666666,
              "#ed7953"
             ],
             [
              0.7777777777777778,
              "#fb9f3a"
             ],
             [
              0.8888888888888888,
              "#fdca26"
             ],
             [
              1,
              "#f0f921"
             ]
            ],
            "type": "heatmap"
           }
          ],
          "heatmapgl": [
           {
            "colorbar": {
             "outlinewidth": 0,
             "ticks": ""
            },
            "colorscale": [
             [
              0,
              "#0d0887"
             ],
             [
              0.1111111111111111,
              "#46039f"
             ],
             [
              0.2222222222222222,
              "#7201a8"
             ],
             [
              0.3333333333333333,
              "#9c179e"
             ],
             [
              0.4444444444444444,
              "#bd3786"
             ],
             [
              0.5555555555555556,
              "#d8576b"
             ],
             [
              0.6666666666666666,
              "#ed7953"
             ],
             [
              0.7777777777777778,
              "#fb9f3a"
             ],
             [
              0.8888888888888888,
              "#fdca26"
             ],
             [
              1,
              "#f0f921"
             ]
            ],
            "type": "heatmapgl"
           }
          ],
          "histogram": [
           {
            "marker": {
             "pattern": {
              "fillmode": "overlay",
              "size": 10,
              "solidity": 0.2
             }
            },
            "type": "histogram"
           }
          ],
          "histogram2d": [
           {
            "colorbar": {
             "outlinewidth": 0,
             "ticks": ""
            },
            "colorscale": [
             [
              0,
              "#0d0887"
             ],
             [
              0.1111111111111111,
              "#46039f"
             ],
             [
              0.2222222222222222,
              "#7201a8"
             ],
             [
              0.3333333333333333,
              "#9c179e"
             ],
             [
              0.4444444444444444,
              "#bd3786"
             ],
             [
              0.5555555555555556,
              "#d8576b"
             ],
             [
              0.6666666666666666,
              "#ed7953"
             ],
             [
              0.7777777777777778,
              "#fb9f3a"
             ],
             [
              0.8888888888888888,
              "#fdca26"
             ],
             [
              1,
              "#f0f921"
             ]
            ],
            "type": "histogram2d"
           }
          ],
          "histogram2dcontour": [
           {
            "colorbar": {
             "outlinewidth": 0,
             "ticks": ""
            },
            "colorscale": [
             [
              0,
              "#0d0887"
             ],
             [
              0.1111111111111111,
              "#46039f"
             ],
             [
              0.2222222222222222,
              "#7201a8"
             ],
             [
              0.3333333333333333,
              "#9c179e"
             ],
             [
              0.4444444444444444,
              "#bd3786"
             ],
             [
              0.5555555555555556,
              "#d8576b"
             ],
             [
              0.6666666666666666,
              "#ed7953"
             ],
             [
              0.7777777777777778,
              "#fb9f3a"
             ],
             [
              0.8888888888888888,
              "#fdca26"
             ],
             [
              1,
              "#f0f921"
             ]
            ],
            "type": "histogram2dcontour"
           }
          ],
          "mesh3d": [
           {
            "colorbar": {
             "outlinewidth": 0,
             "ticks": ""
            },
            "type": "mesh3d"
           }
          ],
          "parcoords": [
           {
            "line": {
             "colorbar": {
              "outlinewidth": 0,
              "ticks": ""
             }
            },
            "type": "parcoords"
           }
          ],
          "pie": [
           {
            "automargin": true,
            "type": "pie"
           }
          ],
          "scatter": [
           {
            "fillpattern": {
             "fillmode": "overlay",
             "size": 10,
             "solidity": 0.2
            },
            "type": "scatter"
           }
          ],
          "scatter3d": [
           {
            "line": {
             "colorbar": {
              "outlinewidth": 0,
              "ticks": ""
             }
            },
            "marker": {
             "colorbar": {
              "outlinewidth": 0,
              "ticks": ""
             }
            },
            "type": "scatter3d"
           }
          ],
          "scattercarpet": [
           {
            "marker": {
             "colorbar": {
              "outlinewidth": 0,
              "ticks": ""
             }
            },
            "type": "scattercarpet"
           }
          ],
          "scattergeo": [
           {
            "marker": {
             "colorbar": {
              "outlinewidth": 0,
              "ticks": ""
             }
            },
            "type": "scattergeo"
           }
          ],
          "scattergl": [
           {
            "marker": {
             "colorbar": {
              "outlinewidth": 0,
              "ticks": ""
             }
            },
            "type": "scattergl"
           }
          ],
          "scattermapbox": [
           {
            "marker": {
             "colorbar": {
              "outlinewidth": 0,
              "ticks": ""
             }
            },
            "type": "scattermapbox"
           }
          ],
          "scatterpolar": [
           {
            "marker": {
             "colorbar": {
              "outlinewidth": 0,
              "ticks": ""
             }
            },
            "type": "scatterpolar"
           }
          ],
          "scatterpolargl": [
           {
            "marker": {
             "colorbar": {
              "outlinewidth": 0,
              "ticks": ""
             }
            },
            "type": "scatterpolargl"
           }
          ],
          "scatterternary": [
           {
            "marker": {
             "colorbar": {
              "outlinewidth": 0,
              "ticks": ""
             }
            },
            "type": "scatterternary"
           }
          ],
          "surface": [
           {
            "colorbar": {
             "outlinewidth": 0,
             "ticks": ""
            },
            "colorscale": [
             [
              0,
              "#0d0887"
             ],
             [
              0.1111111111111111,
              "#46039f"
             ],
             [
              0.2222222222222222,
              "#7201a8"
             ],
             [
              0.3333333333333333,
              "#9c179e"
             ],
             [
              0.4444444444444444,
              "#bd3786"
             ],
             [
              0.5555555555555556,
              "#d8576b"
             ],
             [
              0.6666666666666666,
              "#ed7953"
             ],
             [
              0.7777777777777778,
              "#fb9f3a"
             ],
             [
              0.8888888888888888,
              "#fdca26"
             ],
             [
              1,
              "#f0f921"
             ]
            ],
            "type": "surface"
           }
          ],
          "table": [
           {
            "cells": {
             "fill": {
              "color": "#EBF0F8"
             },
             "line": {
              "color": "white"
             }
            },
            "header": {
             "fill": {
              "color": "#C8D4E3"
             },
             "line": {
              "color": "white"
             }
            },
            "type": "table"
           }
          ]
         },
         "layout": {
          "annotationdefaults": {
           "arrowcolor": "#2a3f5f",
           "arrowhead": 0,
           "arrowwidth": 1
          },
          "autotypenumbers": "strict",
          "coloraxis": {
           "colorbar": {
            "outlinewidth": 0,
            "ticks": ""
           }
          },
          "colorscale": {
           "diverging": [
            [
             0,
             "#8e0152"
            ],
            [
             0.1,
             "#c51b7d"
            ],
            [
             0.2,
             "#de77ae"
            ],
            [
             0.3,
             "#f1b6da"
            ],
            [
             0.4,
             "#fde0ef"
            ],
            [
             0.5,
             "#f7f7f7"
            ],
            [
             0.6,
             "#e6f5d0"
            ],
            [
             0.7,
             "#b8e186"
            ],
            [
             0.8,
             "#7fbc41"
            ],
            [
             0.9,
             "#4d9221"
            ],
            [
             1,
             "#276419"
            ]
           ],
           "sequential": [
            [
             0,
             "#0d0887"
            ],
            [
             0.1111111111111111,
             "#46039f"
            ],
            [
             0.2222222222222222,
             "#7201a8"
            ],
            [
             0.3333333333333333,
             "#9c179e"
            ],
            [
             0.4444444444444444,
             "#bd3786"
            ],
            [
             0.5555555555555556,
             "#d8576b"
            ],
            [
             0.6666666666666666,
             "#ed7953"
            ],
            [
             0.7777777777777778,
             "#fb9f3a"
            ],
            [
             0.8888888888888888,
             "#fdca26"
            ],
            [
             1,
             "#f0f921"
            ]
           ],
           "sequentialminus": [
            [
             0,
             "#0d0887"
            ],
            [
             0.1111111111111111,
             "#46039f"
            ],
            [
             0.2222222222222222,
             "#7201a8"
            ],
            [
             0.3333333333333333,
             "#9c179e"
            ],
            [
             0.4444444444444444,
             "#bd3786"
            ],
            [
             0.5555555555555556,
             "#d8576b"
            ],
            [
             0.6666666666666666,
             "#ed7953"
            ],
            [
             0.7777777777777778,
             "#fb9f3a"
            ],
            [
             0.8888888888888888,
             "#fdca26"
            ],
            [
             1,
             "#f0f921"
            ]
           ]
          },
          "colorway": [
           "#636efa",
           "#EF553B",
           "#00cc96",
           "#ab63fa",
           "#FFA15A",
           "#19d3f3",
           "#FF6692",
           "#B6E880",
           "#FF97FF",
           "#FECB52"
          ],
          "font": {
           "color": "#2a3f5f"
          },
          "geo": {
           "bgcolor": "white",
           "lakecolor": "white",
           "landcolor": "#E5ECF6",
           "showlakes": true,
           "showland": true,
           "subunitcolor": "white"
          },
          "hoverlabel": {
           "align": "left"
          },
          "hovermode": "closest",
          "mapbox": {
           "style": "light"
          },
          "paper_bgcolor": "white",
          "plot_bgcolor": "#E5ECF6",
          "polar": {
           "angularaxis": {
            "gridcolor": "white",
            "linecolor": "white",
            "ticks": ""
           },
           "bgcolor": "#E5ECF6",
           "radialaxis": {
            "gridcolor": "white",
            "linecolor": "white",
            "ticks": ""
           }
          },
          "scene": {
           "xaxis": {
            "backgroundcolor": "#E5ECF6",
            "gridcolor": "white",
            "gridwidth": 2,
            "linecolor": "white",
            "showbackground": true,
            "ticks": "",
            "zerolinecolor": "white"
           },
           "yaxis": {
            "backgroundcolor": "#E5ECF6",
            "gridcolor": "white",
            "gridwidth": 2,
            "linecolor": "white",
            "showbackground": true,
            "ticks": "",
            "zerolinecolor": "white"
           },
           "zaxis": {
            "backgroundcolor": "#E5ECF6",
            "gridcolor": "white",
            "gridwidth": 2,
            "linecolor": "white",
            "showbackground": true,
            "ticks": "",
            "zerolinecolor": "white"
           }
          },
          "shapedefaults": {
           "line": {
            "color": "#2a3f5f"
           }
          },
          "ternary": {
           "aaxis": {
            "gridcolor": "white",
            "linecolor": "white",
            "ticks": ""
           },
           "baxis": {
            "gridcolor": "white",
            "linecolor": "white",
            "ticks": ""
           },
           "bgcolor": "#E5ECF6",
           "caxis": {
            "gridcolor": "white",
            "linecolor": "white",
            "ticks": ""
           }
          },
          "title": {
           "x": 0.05
          },
          "xaxis": {
           "automargin": true,
           "gridcolor": "white",
           "linecolor": "white",
           "ticks": "",
           "title": {
            "standoff": 15
           },
           "zerolinecolor": "white",
           "zerolinewidth": 2
          },
          "yaxis": {
           "automargin": true,
           "gridcolor": "white",
           "linecolor": "white",
           "ticks": "",
           "title": {
            "standoff": 15
           },
           "zerolinecolor": "white",
           "zerolinewidth": 2
          }
         }
        },
        "title": {
         "text": "Gráfico de género y número de casos por grupo etario"
        },
        "xaxis": {
         "anchor": "y",
         "domain": [
          0,
          1
         ],
         "title": {
          "text": "Número de casos"
         }
        },
        "yaxis": {
         "anchor": "x",
         "domain": [
          0,
          1
         ],
         "title": {
          "text": "GRUPO ETARIO"
         }
        }
       }
      }
     },
     "metadata": {},
     "output_type": "display_data"
    }
   ],
   "source": [
    "# Graph GRUPO ETARIO - GENERO \n",
    "fig_genero_edad = px.bar(\n",
    "    df_genero_edad,\n",
    "    x='CANTIDAD',  # Columna para el eje X (género)\n",
    "    y='GRUPO ETARIO',  # Columna para el eje Y (cantidad de casos)\n",
    "    color='GENERO',  # Columna que define los colores de las barras (grupo etario)\n",
    "    barmode='group',\n",
    "    text_auto='.2s',\n",
    "    title=\"Gráfico de género y número de casos por grupo etario\",\n",
    "    color_discrete_map=color_map,\n",
    "    labels={'CANTIDAD': 'Número de casos', 'GENERO': 'Género'},\n",
    "    height=400\n",
    ")\n",
    "\n",
    "# Properties\n",
    "fig_genero_edad.update_traces(\n",
    "    textfont_size=12,\n",
    "    textangle=0,\n",
    "    textposition=\"outside\",\n",
    "    cliponaxis=False\n",
    ")\n",
    "\n",
    "# Show\n",
    "fig_genero_edad.show()\n",
    "fig_genero_edad.write_html('graphics/age.html') #usado para crear el grafico"
   ]
  },
  {
   "cell_type": "code",
   "execution_count": 1160,
   "metadata": {},
   "outputs": [
    {
     "data": {
      "application/vnd.plotly.v1+json": {
       "config": {
        "plotlyServerURL": "https://plot.ly"
       },
       "data": [
        {
         "hovertemplate": "Fecha=%{x}<br>Cantidad de casos=%{y}<extra></extra>",
         "legendgroup": "",
         "line": {
          "color": "#636efa",
          "dash": "solid"
         },
         "marker": {
          "symbol": "circle"
         },
         "mode": "lines+markers",
         "name": "",
         "orientation": "v",
         "showlegend": false,
         "type": "scatter",
         "x": [
          "2010-01-31T00:00:00",
          "2010-02-28T00:00:00",
          "2010-03-31T00:00:00",
          "2010-04-30T00:00:00",
          "2010-05-31T00:00:00",
          "2010-06-30T00:00:00",
          "2010-07-31T00:00:00",
          "2010-08-31T00:00:00",
          "2010-09-30T00:00:00",
          "2010-10-31T00:00:00",
          "2010-11-30T00:00:00",
          "2010-12-31T00:00:00",
          "2011-01-31T00:00:00",
          "2011-02-28T00:00:00",
          "2011-03-31T00:00:00",
          "2011-04-30T00:00:00",
          "2011-05-31T00:00:00",
          "2011-06-30T00:00:00",
          "2011-07-31T00:00:00",
          "2011-08-31T00:00:00",
          "2011-09-30T00:00:00",
          "2011-10-31T00:00:00",
          "2011-11-30T00:00:00",
          "2011-12-31T00:00:00",
          "2012-01-31T00:00:00",
          "2012-02-29T00:00:00",
          "2012-03-31T00:00:00",
          "2012-04-30T00:00:00",
          "2012-05-31T00:00:00",
          "2012-06-30T00:00:00",
          "2012-07-31T00:00:00",
          "2012-08-31T00:00:00",
          "2012-09-30T00:00:00",
          "2012-10-31T00:00:00",
          "2012-11-30T00:00:00",
          "2012-12-31T00:00:00",
          "2013-01-31T00:00:00",
          "2013-02-28T00:00:00",
          "2013-03-31T00:00:00",
          "2013-04-30T00:00:00",
          "2013-05-31T00:00:00",
          "2013-06-30T00:00:00",
          "2013-07-31T00:00:00",
          "2013-08-31T00:00:00",
          "2013-09-30T00:00:00",
          "2013-10-31T00:00:00",
          "2013-11-30T00:00:00",
          "2013-12-31T00:00:00",
          "2014-01-31T00:00:00",
          "2014-02-28T00:00:00",
          "2014-03-31T00:00:00",
          "2014-04-30T00:00:00",
          "2014-05-31T00:00:00",
          "2014-06-30T00:00:00",
          "2014-07-31T00:00:00",
          "2014-08-31T00:00:00",
          "2014-09-30T00:00:00",
          "2014-10-31T00:00:00",
          "2014-11-30T00:00:00",
          "2014-12-31T00:00:00",
          "2015-01-31T00:00:00",
          "2015-02-28T00:00:00",
          "2015-03-31T00:00:00",
          "2015-04-30T00:00:00",
          "2015-05-31T00:00:00",
          "2015-06-30T00:00:00",
          "2015-07-31T00:00:00",
          "2015-08-31T00:00:00",
          "2015-09-30T00:00:00",
          "2015-10-31T00:00:00",
          "2015-11-30T00:00:00",
          "2015-12-31T00:00:00",
          "2016-01-31T00:00:00",
          "2016-02-29T00:00:00",
          "2016-03-31T00:00:00",
          "2016-04-30T00:00:00",
          "2016-05-31T00:00:00",
          "2016-06-30T00:00:00",
          "2016-07-31T00:00:00",
          "2016-08-31T00:00:00",
          "2016-09-30T00:00:00",
          "2016-10-31T00:00:00",
          "2016-11-30T00:00:00",
          "2016-12-31T00:00:00",
          "2017-01-31T00:00:00",
          "2017-02-28T00:00:00",
          "2017-03-31T00:00:00",
          "2017-04-30T00:00:00",
          "2017-05-31T00:00:00",
          "2017-06-30T00:00:00",
          "2017-07-31T00:00:00",
          "2017-08-31T00:00:00",
          "2017-09-30T00:00:00",
          "2017-10-31T00:00:00",
          "2017-11-30T00:00:00",
          "2017-12-31T00:00:00",
          "2018-01-31T00:00:00",
          "2018-02-28T00:00:00",
          "2018-03-31T00:00:00",
          "2018-04-30T00:00:00",
          "2018-05-31T00:00:00",
          "2018-06-30T00:00:00",
          "2018-07-31T00:00:00",
          "2018-08-31T00:00:00",
          "2018-09-30T00:00:00",
          "2018-10-31T00:00:00",
          "2018-11-30T00:00:00",
          "2018-12-31T00:00:00",
          "2019-01-31T00:00:00",
          "2019-02-28T00:00:00",
          "2019-03-31T00:00:00",
          "2019-04-30T00:00:00",
          "2019-05-31T00:00:00",
          "2019-06-30T00:00:00",
          "2019-07-31T00:00:00",
          "2019-08-31T00:00:00",
          "2019-09-30T00:00:00",
          "2019-10-31T00:00:00",
          "2019-11-30T00:00:00",
          "2019-12-31T00:00:00",
          "2020-01-31T00:00:00",
          "2020-02-29T00:00:00",
          "2020-03-31T00:00:00",
          "2020-04-30T00:00:00",
          "2020-05-31T00:00:00",
          "2020-06-30T00:00:00",
          "2020-07-31T00:00:00",
          "2020-08-31T00:00:00",
          "2020-09-30T00:00:00",
          "2020-10-31T00:00:00",
          "2020-11-30T00:00:00",
          "2020-12-31T00:00:00",
          "2021-01-31T00:00:00",
          "2021-02-28T00:00:00",
          "2021-03-31T00:00:00",
          "2021-04-30T00:00:00",
          "2021-05-31T00:00:00",
          "2021-06-30T00:00:00",
          "2021-07-31T00:00:00",
          "2021-08-31T00:00:00",
          "2021-09-30T00:00:00",
          "2021-10-31T00:00:00",
          "2021-11-30T00:00:00",
          "2021-12-31T00:00:00",
          "2022-01-31T00:00:00",
          "2022-02-28T00:00:00",
          "2022-03-31T00:00:00",
          "2022-04-30T00:00:00",
          "2022-05-31T00:00:00",
          "2022-06-30T00:00:00",
          "2022-07-31T00:00:00",
          "2022-08-31T00:00:00",
          "2022-09-30T00:00:00",
          "2022-10-31T00:00:00",
          "2022-11-30T00:00:00",
          "2022-12-31T00:00:00",
          "2023-01-31T00:00:00",
          "2023-02-28T00:00:00",
          "2023-03-31T00:00:00",
          "2023-04-30T00:00:00",
          "2023-05-31T00:00:00",
          "2023-06-30T00:00:00",
          "2023-07-31T00:00:00",
          "2023-08-31T00:00:00",
          "2023-09-30T00:00:00",
          "2023-10-31T00:00:00",
          "2023-11-30T00:00:00",
          "2023-12-31T00:00:00",
          "2024-01-31T00:00:00",
          "2024-02-29T00:00:00",
          "2024-03-31T00:00:00",
          "2024-04-30T00:00:00"
         ],
         "xaxis": "x",
         "y": [
          2386,
          2080,
          1960,
          1838,
          2339,
          1847,
          1949,
          2041,
          2126,
          1790,
          1368,
          1447,
          2378,
          2284,
          2346,
          2194,
          2484,
          2208,
          2403,
          2628,
          2246,
          2236,
          2050,
          1737,
          3371,
          3032,
          2967,
          2803,
          2949,
          2738,
          2872,
          2789,
          3012,
          2222,
          1865,
          1797,
          3750,
          3366,
          3402,
          3215,
          2974,
          2720,
          2574,
          2529,
          2515,
          2323,
          1917,
          1791,
          4337,
          4866,
          5232,
          4108,
          4883,
          4428,
          3351,
          3841,
          4438,
          3521,
          2748,
          2687,
          5339,
          6217,
          6124,
          6015,
          7190,
          6331,
          6601,
          6867,
          6866,
          6462,
          5767,
          5920,
          8948,
          9406,
          8759,
          8103,
          8604,
          7749,
          7616,
          7961,
          7860,
          7643,
          7198,
          7292,
          8339,
          8559,
          9041,
          8496,
          9659,
          8060,
          8367,
          8251,
          8721,
          8234,
          8327,
          6473,
          8686,
          8405,
          9167,
          9125,
          9371,
          8726,
          8009,
          8252,
          8663,
          7595,
          7033,
          6874,
          7316,
          7701,
          8745,
          7901,
          9553,
          9267,
          11721,
          11861,
          11970,
          10874,
          10047,
          9549,
          11443,
          12057,
          9088,
          7823,
          9995,
          8130,
          8851,
          9374,
          10488,
          10389,
          9475,
          6454,
          8037,
          10539,
          11045,
          10187,
          10295,
          9869,
          9829,
          10414,
          11233,
          9758,
          9456,
          6470,
          10677,
          11734,
          13273,
          11465,
          12746,
          11020,
          10980,
          11212,
          11229,
          11711,
          8131,
          7353,
          14882,
          15753,
          17275,
          15399,
          18779,
          18194,
          18820,
          10916,
          11447,
          11767,
          9976,
          6651,
          22726,
          12931,
          13268,
          10435
         ],
         "yaxis": "y"
        }
       ],
       "layout": {
        "legend": {
         "tracegroupgap": 0
        },
        "template": {
         "data": {
          "bar": [
           {
            "error_x": {
             "color": "#2a3f5f"
            },
            "error_y": {
             "color": "#2a3f5f"
            },
            "marker": {
             "line": {
              "color": "#E5ECF6",
              "width": 0.5
             },
             "pattern": {
              "fillmode": "overlay",
              "size": 10,
              "solidity": 0.2
             }
            },
            "type": "bar"
           }
          ],
          "barpolar": [
           {
            "marker": {
             "line": {
              "color": "#E5ECF6",
              "width": 0.5
             },
             "pattern": {
              "fillmode": "overlay",
              "size": 10,
              "solidity": 0.2
             }
            },
            "type": "barpolar"
           }
          ],
          "carpet": [
           {
            "aaxis": {
             "endlinecolor": "#2a3f5f",
             "gridcolor": "white",
             "linecolor": "white",
             "minorgridcolor": "white",
             "startlinecolor": "#2a3f5f"
            },
            "baxis": {
             "endlinecolor": "#2a3f5f",
             "gridcolor": "white",
             "linecolor": "white",
             "minorgridcolor": "white",
             "startlinecolor": "#2a3f5f"
            },
            "type": "carpet"
           }
          ],
          "choropleth": [
           {
            "colorbar": {
             "outlinewidth": 0,
             "ticks": ""
            },
            "type": "choropleth"
           }
          ],
          "contour": [
           {
            "colorbar": {
             "outlinewidth": 0,
             "ticks": ""
            },
            "colorscale": [
             [
              0,
              "#0d0887"
             ],
             [
              0.1111111111111111,
              "#46039f"
             ],
             [
              0.2222222222222222,
              "#7201a8"
             ],
             [
              0.3333333333333333,
              "#9c179e"
             ],
             [
              0.4444444444444444,
              "#bd3786"
             ],
             [
              0.5555555555555556,
              "#d8576b"
             ],
             [
              0.6666666666666666,
              "#ed7953"
             ],
             [
              0.7777777777777778,
              "#fb9f3a"
             ],
             [
              0.8888888888888888,
              "#fdca26"
             ],
             [
              1,
              "#f0f921"
             ]
            ],
            "type": "contour"
           }
          ],
          "contourcarpet": [
           {
            "colorbar": {
             "outlinewidth": 0,
             "ticks": ""
            },
            "type": "contourcarpet"
           }
          ],
          "heatmap": [
           {
            "colorbar": {
             "outlinewidth": 0,
             "ticks": ""
            },
            "colorscale": [
             [
              0,
              "#0d0887"
             ],
             [
              0.1111111111111111,
              "#46039f"
             ],
             [
              0.2222222222222222,
              "#7201a8"
             ],
             [
              0.3333333333333333,
              "#9c179e"
             ],
             [
              0.4444444444444444,
              "#bd3786"
             ],
             [
              0.5555555555555556,
              "#d8576b"
             ],
             [
              0.6666666666666666,
              "#ed7953"
             ],
             [
              0.7777777777777778,
              "#fb9f3a"
             ],
             [
              0.8888888888888888,
              "#fdca26"
             ],
             [
              1,
              "#f0f921"
             ]
            ],
            "type": "heatmap"
           }
          ],
          "heatmapgl": [
           {
            "colorbar": {
             "outlinewidth": 0,
             "ticks": ""
            },
            "colorscale": [
             [
              0,
              "#0d0887"
             ],
             [
              0.1111111111111111,
              "#46039f"
             ],
             [
              0.2222222222222222,
              "#7201a8"
             ],
             [
              0.3333333333333333,
              "#9c179e"
             ],
             [
              0.4444444444444444,
              "#bd3786"
             ],
             [
              0.5555555555555556,
              "#d8576b"
             ],
             [
              0.6666666666666666,
              "#ed7953"
             ],
             [
              0.7777777777777778,
              "#fb9f3a"
             ],
             [
              0.8888888888888888,
              "#fdca26"
             ],
             [
              1,
              "#f0f921"
             ]
            ],
            "type": "heatmapgl"
           }
          ],
          "histogram": [
           {
            "marker": {
             "pattern": {
              "fillmode": "overlay",
              "size": 10,
              "solidity": 0.2
             }
            },
            "type": "histogram"
           }
          ],
          "histogram2d": [
           {
            "colorbar": {
             "outlinewidth": 0,
             "ticks": ""
            },
            "colorscale": [
             [
              0,
              "#0d0887"
             ],
             [
              0.1111111111111111,
              "#46039f"
             ],
             [
              0.2222222222222222,
              "#7201a8"
             ],
             [
              0.3333333333333333,
              "#9c179e"
             ],
             [
              0.4444444444444444,
              "#bd3786"
             ],
             [
              0.5555555555555556,
              "#d8576b"
             ],
             [
              0.6666666666666666,
              "#ed7953"
             ],
             [
              0.7777777777777778,
              "#fb9f3a"
             ],
             [
              0.8888888888888888,
              "#fdca26"
             ],
             [
              1,
              "#f0f921"
             ]
            ],
            "type": "histogram2d"
           }
          ],
          "histogram2dcontour": [
           {
            "colorbar": {
             "outlinewidth": 0,
             "ticks": ""
            },
            "colorscale": [
             [
              0,
              "#0d0887"
             ],
             [
              0.1111111111111111,
              "#46039f"
             ],
             [
              0.2222222222222222,
              "#7201a8"
             ],
             [
              0.3333333333333333,
              "#9c179e"
             ],
             [
              0.4444444444444444,
              "#bd3786"
             ],
             [
              0.5555555555555556,
              "#d8576b"
             ],
             [
              0.6666666666666666,
              "#ed7953"
             ],
             [
              0.7777777777777778,
              "#fb9f3a"
             ],
             [
              0.8888888888888888,
              "#fdca26"
             ],
             [
              1,
              "#f0f921"
             ]
            ],
            "type": "histogram2dcontour"
           }
          ],
          "mesh3d": [
           {
            "colorbar": {
             "outlinewidth": 0,
             "ticks": ""
            },
            "type": "mesh3d"
           }
          ],
          "parcoords": [
           {
            "line": {
             "colorbar": {
              "outlinewidth": 0,
              "ticks": ""
             }
            },
            "type": "parcoords"
           }
          ],
          "pie": [
           {
            "automargin": true,
            "type": "pie"
           }
          ],
          "scatter": [
           {
            "fillpattern": {
             "fillmode": "overlay",
             "size": 10,
             "solidity": 0.2
            },
            "type": "scatter"
           }
          ],
          "scatter3d": [
           {
            "line": {
             "colorbar": {
              "outlinewidth": 0,
              "ticks": ""
             }
            },
            "marker": {
             "colorbar": {
              "outlinewidth": 0,
              "ticks": ""
             }
            },
            "type": "scatter3d"
           }
          ],
          "scattercarpet": [
           {
            "marker": {
             "colorbar": {
              "outlinewidth": 0,
              "ticks": ""
             }
            },
            "type": "scattercarpet"
           }
          ],
          "scattergeo": [
           {
            "marker": {
             "colorbar": {
              "outlinewidth": 0,
              "ticks": ""
             }
            },
            "type": "scattergeo"
           }
          ],
          "scattergl": [
           {
            "marker": {
             "colorbar": {
              "outlinewidth": 0,
              "ticks": ""
             }
            },
            "type": "scattergl"
           }
          ],
          "scattermapbox": [
           {
            "marker": {
             "colorbar": {
              "outlinewidth": 0,
              "ticks": ""
             }
            },
            "type": "scattermapbox"
           }
          ],
          "scatterpolar": [
           {
            "marker": {
             "colorbar": {
              "outlinewidth": 0,
              "ticks": ""
             }
            },
            "type": "scatterpolar"
           }
          ],
          "scatterpolargl": [
           {
            "marker": {
             "colorbar": {
              "outlinewidth": 0,
              "ticks": ""
             }
            },
            "type": "scatterpolargl"
           }
          ],
          "scatterternary": [
           {
            "marker": {
             "colorbar": {
              "outlinewidth": 0,
              "ticks": ""
             }
            },
            "type": "scatterternary"
           }
          ],
          "surface": [
           {
            "colorbar": {
             "outlinewidth": 0,
             "ticks": ""
            },
            "colorscale": [
             [
              0,
              "#0d0887"
             ],
             [
              0.1111111111111111,
              "#46039f"
             ],
             [
              0.2222222222222222,
              "#7201a8"
             ],
             [
              0.3333333333333333,
              "#9c179e"
             ],
             [
              0.4444444444444444,
              "#bd3786"
             ],
             [
              0.5555555555555556,
              "#d8576b"
             ],
             [
              0.6666666666666666,
              "#ed7953"
             ],
             [
              0.7777777777777778,
              "#fb9f3a"
             ],
             [
              0.8888888888888888,
              "#fdca26"
             ],
             [
              1,
              "#f0f921"
             ]
            ],
            "type": "surface"
           }
          ],
          "table": [
           {
            "cells": {
             "fill": {
              "color": "#EBF0F8"
             },
             "line": {
              "color": "white"
             }
            },
            "header": {
             "fill": {
              "color": "#C8D4E3"
             },
             "line": {
              "color": "white"
             }
            },
            "type": "table"
           }
          ]
         },
         "layout": {
          "annotationdefaults": {
           "arrowcolor": "#2a3f5f",
           "arrowhead": 0,
           "arrowwidth": 1
          },
          "autotypenumbers": "strict",
          "coloraxis": {
           "colorbar": {
            "outlinewidth": 0,
            "ticks": ""
           }
          },
          "colorscale": {
           "diverging": [
            [
             0,
             "#8e0152"
            ],
            [
             0.1,
             "#c51b7d"
            ],
            [
             0.2,
             "#de77ae"
            ],
            [
             0.3,
             "#f1b6da"
            ],
            [
             0.4,
             "#fde0ef"
            ],
            [
             0.5,
             "#f7f7f7"
            ],
            [
             0.6,
             "#e6f5d0"
            ],
            [
             0.7,
             "#b8e186"
            ],
            [
             0.8,
             "#7fbc41"
            ],
            [
             0.9,
             "#4d9221"
            ],
            [
             1,
             "#276419"
            ]
           ],
           "sequential": [
            [
             0,
             "#0d0887"
            ],
            [
             0.1111111111111111,
             "#46039f"
            ],
            [
             0.2222222222222222,
             "#7201a8"
            ],
            [
             0.3333333333333333,
             "#9c179e"
            ],
            [
             0.4444444444444444,
             "#bd3786"
            ],
            [
             0.5555555555555556,
             "#d8576b"
            ],
            [
             0.6666666666666666,
             "#ed7953"
            ],
            [
             0.7777777777777778,
             "#fb9f3a"
            ],
            [
             0.8888888888888888,
             "#fdca26"
            ],
            [
             1,
             "#f0f921"
            ]
           ],
           "sequentialminus": [
            [
             0,
             "#0d0887"
            ],
            [
             0.1111111111111111,
             "#46039f"
            ],
            [
             0.2222222222222222,
             "#7201a8"
            ],
            [
             0.3333333333333333,
             "#9c179e"
            ],
            [
             0.4444444444444444,
             "#bd3786"
            ],
            [
             0.5555555555555556,
             "#d8576b"
            ],
            [
             0.6666666666666666,
             "#ed7953"
            ],
            [
             0.7777777777777778,
             "#fb9f3a"
            ],
            [
             0.8888888888888888,
             "#fdca26"
            ],
            [
             1,
             "#f0f921"
            ]
           ]
          },
          "colorway": [
           "#636efa",
           "#EF553B",
           "#00cc96",
           "#ab63fa",
           "#FFA15A",
           "#19d3f3",
           "#FF6692",
           "#B6E880",
           "#FF97FF",
           "#FECB52"
          ],
          "font": {
           "color": "#2a3f5f"
          },
          "geo": {
           "bgcolor": "white",
           "lakecolor": "white",
           "landcolor": "#E5ECF6",
           "showlakes": true,
           "showland": true,
           "subunitcolor": "white"
          },
          "hoverlabel": {
           "align": "left"
          },
          "hovermode": "closest",
          "mapbox": {
           "style": "light"
          },
          "paper_bgcolor": "white",
          "plot_bgcolor": "#E5ECF6",
          "polar": {
           "angularaxis": {
            "gridcolor": "white",
            "linecolor": "white",
            "ticks": ""
           },
           "bgcolor": "#E5ECF6",
           "radialaxis": {
            "gridcolor": "white",
            "linecolor": "white",
            "ticks": ""
           }
          },
          "scene": {
           "xaxis": {
            "backgroundcolor": "#E5ECF6",
            "gridcolor": "white",
            "gridwidth": 2,
            "linecolor": "white",
            "showbackground": true,
            "ticks": "",
            "zerolinecolor": "white"
           },
           "yaxis": {
            "backgroundcolor": "#E5ECF6",
            "gridcolor": "white",
            "gridwidth": 2,
            "linecolor": "white",
            "showbackground": true,
            "ticks": "",
            "zerolinecolor": "white"
           },
           "zaxis": {
            "backgroundcolor": "#E5ECF6",
            "gridcolor": "white",
            "gridwidth": 2,
            "linecolor": "white",
            "showbackground": true,
            "ticks": "",
            "zerolinecolor": "white"
           }
          },
          "shapedefaults": {
           "line": {
            "color": "#2a3f5f"
           }
          },
          "ternary": {
           "aaxis": {
            "gridcolor": "white",
            "linecolor": "white",
            "ticks": ""
           },
           "baxis": {
            "gridcolor": "white",
            "linecolor": "white",
            "ticks": ""
           },
           "bgcolor": "#E5ECF6",
           "caxis": {
            "gridcolor": "white",
            "linecolor": "white",
            "ticks": ""
           }
          },
          "title": {
           "x": 0.05
          },
          "xaxis": {
           "automargin": true,
           "gridcolor": "white",
           "linecolor": "white",
           "ticks": "",
           "title": {
            "standoff": 15
           },
           "zerolinecolor": "white",
           "zerolinewidth": 2
          },
          "yaxis": {
           "automargin": true,
           "gridcolor": "white",
           "linecolor": "white",
           "ticks": "",
           "title": {
            "standoff": 15
           },
           "zerolinecolor": "white",
           "zerolinewidth": 2
          }
         }
        },
        "title": {
         "text": "Tendencia de los casos a lo largo del tiempo"
        },
        "xaxis": {
         "anchor": "y",
         "domain": [
          0,
          1
         ],
         "title": {
          "text": "Fecha"
         }
        },
        "yaxis": {
         "anchor": "x",
         "domain": [
          0,
          1
         ],
         "title": {
          "text": "Cantidad de casos"
         }
        }
       }
      }
     },
     "metadata": {},
     "output_type": "display_data"
    }
   ],
   "source": [
    "# Agrupar por mes - año y sumando cantidad de casos\n",
    "df_tendencia = df.resample('ME', on='FECHA HECHO')['CANTIDAD'].sum().reset_index()\n",
    "\n",
    "# Graph\n",
    "fig = px.line(\n",
    "    df_tendencia,\n",
    "    x='FECHA HECHO',\n",
    "    y='CANTIDAD',\n",
    "    title='Tendencia de los casos a lo largo del tiempo',\n",
    "    labels={'CANTIDAD': 'Cantidad de casos', 'FECHA HECHO': 'Fecha'}\n",
    ")\n",
    "\n",
    "fig.update_traces(mode='lines+markers')\n",
    "fig.show()\n",
    "fig.write_html('graphics/overtime.html') #usado para crear el grafico\n"
   ]
  },
  {
   "cell_type": "code",
   "execution_count": 1161,
   "metadata": {},
   "outputs": [
    {
     "data": {
      "application/vnd.plotly.v1+json": {
       "config": {
        "plotlyServerURL": "https://plot.ly"
       },
       "data": [
        {
         "alignmentgroup": "True",
         "hovertemplate": "Mes=%{x}<br>Cantidad de casos=%{y}<extra></extra>",
         "legendgroup": "",
         "marker": {
          "color": "skyblue",
          "pattern": {
           "shape": ""
          }
         },
         "name": "",
         "offsetgroup": "",
         "orientation": "v",
         "showlegend": false,
         "textposition": "auto",
         "texttemplate": "%{y}",
         "type": "bar",
         "x": [
          "January",
          "February",
          "March",
          "April",
          "May",
          "June",
          "July",
          "August",
          "September",
          "October",
          "November",
          "December"
         ],
         "xaxis": "x",
         "y": [
          122615,
          118930,
          121692,
          109107,
          111821,
          101287,
          103943,
          98936,
          102814,
          96525,
          85358,
          72495
         ],
         "yaxis": "y"
        }
       ],
       "layout": {
        "barmode": "relative",
        "legend": {
         "tracegroupgap": 0
        },
        "template": {
         "data": {
          "bar": [
           {
            "error_x": {
             "color": "#2a3f5f"
            },
            "error_y": {
             "color": "#2a3f5f"
            },
            "marker": {
             "line": {
              "color": "#E5ECF6",
              "width": 0.5
             },
             "pattern": {
              "fillmode": "overlay",
              "size": 10,
              "solidity": 0.2
             }
            },
            "type": "bar"
           }
          ],
          "barpolar": [
           {
            "marker": {
             "line": {
              "color": "#E5ECF6",
              "width": 0.5
             },
             "pattern": {
              "fillmode": "overlay",
              "size": 10,
              "solidity": 0.2
             }
            },
            "type": "barpolar"
           }
          ],
          "carpet": [
           {
            "aaxis": {
             "endlinecolor": "#2a3f5f",
             "gridcolor": "white",
             "linecolor": "white",
             "minorgridcolor": "white",
             "startlinecolor": "#2a3f5f"
            },
            "baxis": {
             "endlinecolor": "#2a3f5f",
             "gridcolor": "white",
             "linecolor": "white",
             "minorgridcolor": "white",
             "startlinecolor": "#2a3f5f"
            },
            "type": "carpet"
           }
          ],
          "choropleth": [
           {
            "colorbar": {
             "outlinewidth": 0,
             "ticks": ""
            },
            "type": "choropleth"
           }
          ],
          "contour": [
           {
            "colorbar": {
             "outlinewidth": 0,
             "ticks": ""
            },
            "colorscale": [
             [
              0,
              "#0d0887"
             ],
             [
              0.1111111111111111,
              "#46039f"
             ],
             [
              0.2222222222222222,
              "#7201a8"
             ],
             [
              0.3333333333333333,
              "#9c179e"
             ],
             [
              0.4444444444444444,
              "#bd3786"
             ],
             [
              0.5555555555555556,
              "#d8576b"
             ],
             [
              0.6666666666666666,
              "#ed7953"
             ],
             [
              0.7777777777777778,
              "#fb9f3a"
             ],
             [
              0.8888888888888888,
              "#fdca26"
             ],
             [
              1,
              "#f0f921"
             ]
            ],
            "type": "contour"
           }
          ],
          "contourcarpet": [
           {
            "colorbar": {
             "outlinewidth": 0,
             "ticks": ""
            },
            "type": "contourcarpet"
           }
          ],
          "heatmap": [
           {
            "colorbar": {
             "outlinewidth": 0,
             "ticks": ""
            },
            "colorscale": [
             [
              0,
              "#0d0887"
             ],
             [
              0.1111111111111111,
              "#46039f"
             ],
             [
              0.2222222222222222,
              "#7201a8"
             ],
             [
              0.3333333333333333,
              "#9c179e"
             ],
             [
              0.4444444444444444,
              "#bd3786"
             ],
             [
              0.5555555555555556,
              "#d8576b"
             ],
             [
              0.6666666666666666,
              "#ed7953"
             ],
             [
              0.7777777777777778,
              "#fb9f3a"
             ],
             [
              0.8888888888888888,
              "#fdca26"
             ],
             [
              1,
              "#f0f921"
             ]
            ],
            "type": "heatmap"
           }
          ],
          "heatmapgl": [
           {
            "colorbar": {
             "outlinewidth": 0,
             "ticks": ""
            },
            "colorscale": [
             [
              0,
              "#0d0887"
             ],
             [
              0.1111111111111111,
              "#46039f"
             ],
             [
              0.2222222222222222,
              "#7201a8"
             ],
             [
              0.3333333333333333,
              "#9c179e"
             ],
             [
              0.4444444444444444,
              "#bd3786"
             ],
             [
              0.5555555555555556,
              "#d8576b"
             ],
             [
              0.6666666666666666,
              "#ed7953"
             ],
             [
              0.7777777777777778,
              "#fb9f3a"
             ],
             [
              0.8888888888888888,
              "#fdca26"
             ],
             [
              1,
              "#f0f921"
             ]
            ],
            "type": "heatmapgl"
           }
          ],
          "histogram": [
           {
            "marker": {
             "pattern": {
              "fillmode": "overlay",
              "size": 10,
              "solidity": 0.2
             }
            },
            "type": "histogram"
           }
          ],
          "histogram2d": [
           {
            "colorbar": {
             "outlinewidth": 0,
             "ticks": ""
            },
            "colorscale": [
             [
              0,
              "#0d0887"
             ],
             [
              0.1111111111111111,
              "#46039f"
             ],
             [
              0.2222222222222222,
              "#7201a8"
             ],
             [
              0.3333333333333333,
              "#9c179e"
             ],
             [
              0.4444444444444444,
              "#bd3786"
             ],
             [
              0.5555555555555556,
              "#d8576b"
             ],
             [
              0.6666666666666666,
              "#ed7953"
             ],
             [
              0.7777777777777778,
              "#fb9f3a"
             ],
             [
              0.8888888888888888,
              "#fdca26"
             ],
             [
              1,
              "#f0f921"
             ]
            ],
            "type": "histogram2d"
           }
          ],
          "histogram2dcontour": [
           {
            "colorbar": {
             "outlinewidth": 0,
             "ticks": ""
            },
            "colorscale": [
             [
              0,
              "#0d0887"
             ],
             [
              0.1111111111111111,
              "#46039f"
             ],
             [
              0.2222222222222222,
              "#7201a8"
             ],
             [
              0.3333333333333333,
              "#9c179e"
             ],
             [
              0.4444444444444444,
              "#bd3786"
             ],
             [
              0.5555555555555556,
              "#d8576b"
             ],
             [
              0.6666666666666666,
              "#ed7953"
             ],
             [
              0.7777777777777778,
              "#fb9f3a"
             ],
             [
              0.8888888888888888,
              "#fdca26"
             ],
             [
              1,
              "#f0f921"
             ]
            ],
            "type": "histogram2dcontour"
           }
          ],
          "mesh3d": [
           {
            "colorbar": {
             "outlinewidth": 0,
             "ticks": ""
            },
            "type": "mesh3d"
           }
          ],
          "parcoords": [
           {
            "line": {
             "colorbar": {
              "outlinewidth": 0,
              "ticks": ""
             }
            },
            "type": "parcoords"
           }
          ],
          "pie": [
           {
            "automargin": true,
            "type": "pie"
           }
          ],
          "scatter": [
           {
            "fillpattern": {
             "fillmode": "overlay",
             "size": 10,
             "solidity": 0.2
            },
            "type": "scatter"
           }
          ],
          "scatter3d": [
           {
            "line": {
             "colorbar": {
              "outlinewidth": 0,
              "ticks": ""
             }
            },
            "marker": {
             "colorbar": {
              "outlinewidth": 0,
              "ticks": ""
             }
            },
            "type": "scatter3d"
           }
          ],
          "scattercarpet": [
           {
            "marker": {
             "colorbar": {
              "outlinewidth": 0,
              "ticks": ""
             }
            },
            "type": "scattercarpet"
           }
          ],
          "scattergeo": [
           {
            "marker": {
             "colorbar": {
              "outlinewidth": 0,
              "ticks": ""
             }
            },
            "type": "scattergeo"
           }
          ],
          "scattergl": [
           {
            "marker": {
             "colorbar": {
              "outlinewidth": 0,
              "ticks": ""
             }
            },
            "type": "scattergl"
           }
          ],
          "scattermapbox": [
           {
            "marker": {
             "colorbar": {
              "outlinewidth": 0,
              "ticks": ""
             }
            },
            "type": "scattermapbox"
           }
          ],
          "scatterpolar": [
           {
            "marker": {
             "colorbar": {
              "outlinewidth": 0,
              "ticks": ""
             }
            },
            "type": "scatterpolar"
           }
          ],
          "scatterpolargl": [
           {
            "marker": {
             "colorbar": {
              "outlinewidth": 0,
              "ticks": ""
             }
            },
            "type": "scatterpolargl"
           }
          ],
          "scatterternary": [
           {
            "marker": {
             "colorbar": {
              "outlinewidth": 0,
              "ticks": ""
             }
            },
            "type": "scatterternary"
           }
          ],
          "surface": [
           {
            "colorbar": {
             "outlinewidth": 0,
             "ticks": ""
            },
            "colorscale": [
             [
              0,
              "#0d0887"
             ],
             [
              0.1111111111111111,
              "#46039f"
             ],
             [
              0.2222222222222222,
              "#7201a8"
             ],
             [
              0.3333333333333333,
              "#9c179e"
             ],
             [
              0.4444444444444444,
              "#bd3786"
             ],
             [
              0.5555555555555556,
              "#d8576b"
             ],
             [
              0.6666666666666666,
              "#ed7953"
             ],
             [
              0.7777777777777778,
              "#fb9f3a"
             ],
             [
              0.8888888888888888,
              "#fdca26"
             ],
             [
              1,
              "#f0f921"
             ]
            ],
            "type": "surface"
           }
          ],
          "table": [
           {
            "cells": {
             "fill": {
              "color": "#EBF0F8"
             },
             "line": {
              "color": "white"
             }
            },
            "header": {
             "fill": {
              "color": "#C8D4E3"
             },
             "line": {
              "color": "white"
             }
            },
            "type": "table"
           }
          ]
         },
         "layout": {
          "annotationdefaults": {
           "arrowcolor": "#2a3f5f",
           "arrowhead": 0,
           "arrowwidth": 1
          },
          "autotypenumbers": "strict",
          "coloraxis": {
           "colorbar": {
            "outlinewidth": 0,
            "ticks": ""
           }
          },
          "colorscale": {
           "diverging": [
            [
             0,
             "#8e0152"
            ],
            [
             0.1,
             "#c51b7d"
            ],
            [
             0.2,
             "#de77ae"
            ],
            [
             0.3,
             "#f1b6da"
            ],
            [
             0.4,
             "#fde0ef"
            ],
            [
             0.5,
             "#f7f7f7"
            ],
            [
             0.6,
             "#e6f5d0"
            ],
            [
             0.7,
             "#b8e186"
            ],
            [
             0.8,
             "#7fbc41"
            ],
            [
             0.9,
             "#4d9221"
            ],
            [
             1,
             "#276419"
            ]
           ],
           "sequential": [
            [
             0,
             "#0d0887"
            ],
            [
             0.1111111111111111,
             "#46039f"
            ],
            [
             0.2222222222222222,
             "#7201a8"
            ],
            [
             0.3333333333333333,
             "#9c179e"
            ],
            [
             0.4444444444444444,
             "#bd3786"
            ],
            [
             0.5555555555555556,
             "#d8576b"
            ],
            [
             0.6666666666666666,
             "#ed7953"
            ],
            [
             0.7777777777777778,
             "#fb9f3a"
            ],
            [
             0.8888888888888888,
             "#fdca26"
            ],
            [
             1,
             "#f0f921"
            ]
           ],
           "sequentialminus": [
            [
             0,
             "#0d0887"
            ],
            [
             0.1111111111111111,
             "#46039f"
            ],
            [
             0.2222222222222222,
             "#7201a8"
            ],
            [
             0.3333333333333333,
             "#9c179e"
            ],
            [
             0.4444444444444444,
             "#bd3786"
            ],
            [
             0.5555555555555556,
             "#d8576b"
            ],
            [
             0.6666666666666666,
             "#ed7953"
            ],
            [
             0.7777777777777778,
             "#fb9f3a"
            ],
            [
             0.8888888888888888,
             "#fdca26"
            ],
            [
             1,
             "#f0f921"
            ]
           ]
          },
          "colorway": [
           "#636efa",
           "#EF553B",
           "#00cc96",
           "#ab63fa",
           "#FFA15A",
           "#19d3f3",
           "#FF6692",
           "#B6E880",
           "#FF97FF",
           "#FECB52"
          ],
          "font": {
           "color": "#2a3f5f"
          },
          "geo": {
           "bgcolor": "white",
           "lakecolor": "white",
           "landcolor": "#E5ECF6",
           "showlakes": true,
           "showland": true,
           "subunitcolor": "white"
          },
          "hoverlabel": {
           "align": "left"
          },
          "hovermode": "closest",
          "mapbox": {
           "style": "light"
          },
          "paper_bgcolor": "white",
          "plot_bgcolor": "#E5ECF6",
          "polar": {
           "angularaxis": {
            "gridcolor": "white",
            "linecolor": "white",
            "ticks": ""
           },
           "bgcolor": "#E5ECF6",
           "radialaxis": {
            "gridcolor": "white",
            "linecolor": "white",
            "ticks": ""
           }
          },
          "scene": {
           "xaxis": {
            "backgroundcolor": "#E5ECF6",
            "gridcolor": "white",
            "gridwidth": 2,
            "linecolor": "white",
            "showbackground": true,
            "ticks": "",
            "zerolinecolor": "white"
           },
           "yaxis": {
            "backgroundcolor": "#E5ECF6",
            "gridcolor": "white",
            "gridwidth": 2,
            "linecolor": "white",
            "showbackground": true,
            "ticks": "",
            "zerolinecolor": "white"
           },
           "zaxis": {
            "backgroundcolor": "#E5ECF6",
            "gridcolor": "white",
            "gridwidth": 2,
            "linecolor": "white",
            "showbackground": true,
            "ticks": "",
            "zerolinecolor": "white"
           }
          },
          "shapedefaults": {
           "line": {
            "color": "#2a3f5f"
           }
          },
          "ternary": {
           "aaxis": {
            "gridcolor": "white",
            "linecolor": "white",
            "ticks": ""
           },
           "baxis": {
            "gridcolor": "white",
            "linecolor": "white",
            "ticks": ""
           },
           "bgcolor": "#E5ECF6",
           "caxis": {
            "gridcolor": "white",
            "linecolor": "white",
            "ticks": ""
           }
          },
          "title": {
           "x": 0.05
          },
          "xaxis": {
           "automargin": true,
           "gridcolor": "white",
           "linecolor": "white",
           "ticks": "",
           "title": {
            "standoff": 15
           },
           "zerolinecolor": "white",
           "zerolinewidth": 2
          },
          "yaxis": {
           "automargin": true,
           "gridcolor": "white",
           "linecolor": "white",
           "ticks": "",
           "title": {
            "standoff": 15
           },
           "zerolinecolor": "white",
           "zerolinewidth": 2
          }
         }
        },
        "title": {
         "text": "Tendencia de los casos por mes"
        },
        "xaxis": {
         "anchor": "y",
         "domain": [
          0,
          1
         ],
         "title": {
          "text": "Mes"
         }
        },
        "yaxis": {
         "anchor": "x",
         "domain": [
          0,
          1
         ],
         "title": {
          "text": "Cantidad de casos"
         }
        }
       }
      }
     },
     "metadata": {},
     "output_type": "display_data"
    },
    {
     "data": {
      "application/vnd.plotly.v1+json": {
       "config": {
        "plotlyServerURL": "https://plot.ly"
       },
       "data": [
        {
         "alignmentgroup": "True",
         "hovertemplate": "Día de la semana=%{x}<br>Cantidad de casos=%{y}<extra></extra>",
         "legendgroup": "",
         "marker": {
          "color": "lightgreen",
          "pattern": {
           "shape": ""
          }
         },
         "name": "",
         "offsetgroup": "",
         "orientation": "v",
         "showlegend": false,
         "textposition": "auto",
         "texttemplate": "%{y}",
         "type": "bar",
         "x": [
          "Monday",
          "Tuesday",
          "Wednesday",
          "Thursday",
          "Friday",
          "Saturday",
          "Sunday"
         ],
         "xaxis": "x",
         "y": [
          193859,
          171884,
          165604,
          158396,
          149248,
          166541,
          239991
         ],
         "yaxis": "y"
        }
       ],
       "layout": {
        "barmode": "relative",
        "legend": {
         "tracegroupgap": 0
        },
        "template": {
         "data": {
          "bar": [
           {
            "error_x": {
             "color": "#2a3f5f"
            },
            "error_y": {
             "color": "#2a3f5f"
            },
            "marker": {
             "line": {
              "color": "#E5ECF6",
              "width": 0.5
             },
             "pattern": {
              "fillmode": "overlay",
              "size": 10,
              "solidity": 0.2
             }
            },
            "type": "bar"
           }
          ],
          "barpolar": [
           {
            "marker": {
             "line": {
              "color": "#E5ECF6",
              "width": 0.5
             },
             "pattern": {
              "fillmode": "overlay",
              "size": 10,
              "solidity": 0.2
             }
            },
            "type": "barpolar"
           }
          ],
          "carpet": [
           {
            "aaxis": {
             "endlinecolor": "#2a3f5f",
             "gridcolor": "white",
             "linecolor": "white",
             "minorgridcolor": "white",
             "startlinecolor": "#2a3f5f"
            },
            "baxis": {
             "endlinecolor": "#2a3f5f",
             "gridcolor": "white",
             "linecolor": "white",
             "minorgridcolor": "white",
             "startlinecolor": "#2a3f5f"
            },
            "type": "carpet"
           }
          ],
          "choropleth": [
           {
            "colorbar": {
             "outlinewidth": 0,
             "ticks": ""
            },
            "type": "choropleth"
           }
          ],
          "contour": [
           {
            "colorbar": {
             "outlinewidth": 0,
             "ticks": ""
            },
            "colorscale": [
             [
              0,
              "#0d0887"
             ],
             [
              0.1111111111111111,
              "#46039f"
             ],
             [
              0.2222222222222222,
              "#7201a8"
             ],
             [
              0.3333333333333333,
              "#9c179e"
             ],
             [
              0.4444444444444444,
              "#bd3786"
             ],
             [
              0.5555555555555556,
              "#d8576b"
             ],
             [
              0.6666666666666666,
              "#ed7953"
             ],
             [
              0.7777777777777778,
              "#fb9f3a"
             ],
             [
              0.8888888888888888,
              "#fdca26"
             ],
             [
              1,
              "#f0f921"
             ]
            ],
            "type": "contour"
           }
          ],
          "contourcarpet": [
           {
            "colorbar": {
             "outlinewidth": 0,
             "ticks": ""
            },
            "type": "contourcarpet"
           }
          ],
          "heatmap": [
           {
            "colorbar": {
             "outlinewidth": 0,
             "ticks": ""
            },
            "colorscale": [
             [
              0,
              "#0d0887"
             ],
             [
              0.1111111111111111,
              "#46039f"
             ],
             [
              0.2222222222222222,
              "#7201a8"
             ],
             [
              0.3333333333333333,
              "#9c179e"
             ],
             [
              0.4444444444444444,
              "#bd3786"
             ],
             [
              0.5555555555555556,
              "#d8576b"
             ],
             [
              0.6666666666666666,
              "#ed7953"
             ],
             [
              0.7777777777777778,
              "#fb9f3a"
             ],
             [
              0.8888888888888888,
              "#fdca26"
             ],
             [
              1,
              "#f0f921"
             ]
            ],
            "type": "heatmap"
           }
          ],
          "heatmapgl": [
           {
            "colorbar": {
             "outlinewidth": 0,
             "ticks": ""
            },
            "colorscale": [
             [
              0,
              "#0d0887"
             ],
             [
              0.1111111111111111,
              "#46039f"
             ],
             [
              0.2222222222222222,
              "#7201a8"
             ],
             [
              0.3333333333333333,
              "#9c179e"
             ],
             [
              0.4444444444444444,
              "#bd3786"
             ],
             [
              0.5555555555555556,
              "#d8576b"
             ],
             [
              0.6666666666666666,
              "#ed7953"
             ],
             [
              0.7777777777777778,
              "#fb9f3a"
             ],
             [
              0.8888888888888888,
              "#fdca26"
             ],
             [
              1,
              "#f0f921"
             ]
            ],
            "type": "heatmapgl"
           }
          ],
          "histogram": [
           {
            "marker": {
             "pattern": {
              "fillmode": "overlay",
              "size": 10,
              "solidity": 0.2
             }
            },
            "type": "histogram"
           }
          ],
          "histogram2d": [
           {
            "colorbar": {
             "outlinewidth": 0,
             "ticks": ""
            },
            "colorscale": [
             [
              0,
              "#0d0887"
             ],
             [
              0.1111111111111111,
              "#46039f"
             ],
             [
              0.2222222222222222,
              "#7201a8"
             ],
             [
              0.3333333333333333,
              "#9c179e"
             ],
             [
              0.4444444444444444,
              "#bd3786"
             ],
             [
              0.5555555555555556,
              "#d8576b"
             ],
             [
              0.6666666666666666,
              "#ed7953"
             ],
             [
              0.7777777777777778,
              "#fb9f3a"
             ],
             [
              0.8888888888888888,
              "#fdca26"
             ],
             [
              1,
              "#f0f921"
             ]
            ],
            "type": "histogram2d"
           }
          ],
          "histogram2dcontour": [
           {
            "colorbar": {
             "outlinewidth": 0,
             "ticks": ""
            },
            "colorscale": [
             [
              0,
              "#0d0887"
             ],
             [
              0.1111111111111111,
              "#46039f"
             ],
             [
              0.2222222222222222,
              "#7201a8"
             ],
             [
              0.3333333333333333,
              "#9c179e"
             ],
             [
              0.4444444444444444,
              "#bd3786"
             ],
             [
              0.5555555555555556,
              "#d8576b"
             ],
             [
              0.6666666666666666,
              "#ed7953"
             ],
             [
              0.7777777777777778,
              "#fb9f3a"
             ],
             [
              0.8888888888888888,
              "#fdca26"
             ],
             [
              1,
              "#f0f921"
             ]
            ],
            "type": "histogram2dcontour"
           }
          ],
          "mesh3d": [
           {
            "colorbar": {
             "outlinewidth": 0,
             "ticks": ""
            },
            "type": "mesh3d"
           }
          ],
          "parcoords": [
           {
            "line": {
             "colorbar": {
              "outlinewidth": 0,
              "ticks": ""
             }
            },
            "type": "parcoords"
           }
          ],
          "pie": [
           {
            "automargin": true,
            "type": "pie"
           }
          ],
          "scatter": [
           {
            "fillpattern": {
             "fillmode": "overlay",
             "size": 10,
             "solidity": 0.2
            },
            "type": "scatter"
           }
          ],
          "scatter3d": [
           {
            "line": {
             "colorbar": {
              "outlinewidth": 0,
              "ticks": ""
             }
            },
            "marker": {
             "colorbar": {
              "outlinewidth": 0,
              "ticks": ""
             }
            },
            "type": "scatter3d"
           }
          ],
          "scattercarpet": [
           {
            "marker": {
             "colorbar": {
              "outlinewidth": 0,
              "ticks": ""
             }
            },
            "type": "scattercarpet"
           }
          ],
          "scattergeo": [
           {
            "marker": {
             "colorbar": {
              "outlinewidth": 0,
              "ticks": ""
             }
            },
            "type": "scattergeo"
           }
          ],
          "scattergl": [
           {
            "marker": {
             "colorbar": {
              "outlinewidth": 0,
              "ticks": ""
             }
            },
            "type": "scattergl"
           }
          ],
          "scattermapbox": [
           {
            "marker": {
             "colorbar": {
              "outlinewidth": 0,
              "ticks": ""
             }
            },
            "type": "scattermapbox"
           }
          ],
          "scatterpolar": [
           {
            "marker": {
             "colorbar": {
              "outlinewidth": 0,
              "ticks": ""
             }
            },
            "type": "scatterpolar"
           }
          ],
          "scatterpolargl": [
           {
            "marker": {
             "colorbar": {
              "outlinewidth": 0,
              "ticks": ""
             }
            },
            "type": "scatterpolargl"
           }
          ],
          "scatterternary": [
           {
            "marker": {
             "colorbar": {
              "outlinewidth": 0,
              "ticks": ""
             }
            },
            "type": "scatterternary"
           }
          ],
          "surface": [
           {
            "colorbar": {
             "outlinewidth": 0,
             "ticks": ""
            },
            "colorscale": [
             [
              0,
              "#0d0887"
             ],
             [
              0.1111111111111111,
              "#46039f"
             ],
             [
              0.2222222222222222,
              "#7201a8"
             ],
             [
              0.3333333333333333,
              "#9c179e"
             ],
             [
              0.4444444444444444,
              "#bd3786"
             ],
             [
              0.5555555555555556,
              "#d8576b"
             ],
             [
              0.6666666666666666,
              "#ed7953"
             ],
             [
              0.7777777777777778,
              "#fb9f3a"
             ],
             [
              0.8888888888888888,
              "#fdca26"
             ],
             [
              1,
              "#f0f921"
             ]
            ],
            "type": "surface"
           }
          ],
          "table": [
           {
            "cells": {
             "fill": {
              "color": "#EBF0F8"
             },
             "line": {
              "color": "white"
             }
            },
            "header": {
             "fill": {
              "color": "#C8D4E3"
             },
             "line": {
              "color": "white"
             }
            },
            "type": "table"
           }
          ]
         },
         "layout": {
          "annotationdefaults": {
           "arrowcolor": "#2a3f5f",
           "arrowhead": 0,
           "arrowwidth": 1
          },
          "autotypenumbers": "strict",
          "coloraxis": {
           "colorbar": {
            "outlinewidth": 0,
            "ticks": ""
           }
          },
          "colorscale": {
           "diverging": [
            [
             0,
             "#8e0152"
            ],
            [
             0.1,
             "#c51b7d"
            ],
            [
             0.2,
             "#de77ae"
            ],
            [
             0.3,
             "#f1b6da"
            ],
            [
             0.4,
             "#fde0ef"
            ],
            [
             0.5,
             "#f7f7f7"
            ],
            [
             0.6,
             "#e6f5d0"
            ],
            [
             0.7,
             "#b8e186"
            ],
            [
             0.8,
             "#7fbc41"
            ],
            [
             0.9,
             "#4d9221"
            ],
            [
             1,
             "#276419"
            ]
           ],
           "sequential": [
            [
             0,
             "#0d0887"
            ],
            [
             0.1111111111111111,
             "#46039f"
            ],
            [
             0.2222222222222222,
             "#7201a8"
            ],
            [
             0.3333333333333333,
             "#9c179e"
            ],
            [
             0.4444444444444444,
             "#bd3786"
            ],
            [
             0.5555555555555556,
             "#d8576b"
            ],
            [
             0.6666666666666666,
             "#ed7953"
            ],
            [
             0.7777777777777778,
             "#fb9f3a"
            ],
            [
             0.8888888888888888,
             "#fdca26"
            ],
            [
             1,
             "#f0f921"
            ]
           ],
           "sequentialminus": [
            [
             0,
             "#0d0887"
            ],
            [
             0.1111111111111111,
             "#46039f"
            ],
            [
             0.2222222222222222,
             "#7201a8"
            ],
            [
             0.3333333333333333,
             "#9c179e"
            ],
            [
             0.4444444444444444,
             "#bd3786"
            ],
            [
             0.5555555555555556,
             "#d8576b"
            ],
            [
             0.6666666666666666,
             "#ed7953"
            ],
            [
             0.7777777777777778,
             "#fb9f3a"
            ],
            [
             0.8888888888888888,
             "#fdca26"
            ],
            [
             1,
             "#f0f921"
            ]
           ]
          },
          "colorway": [
           "#636efa",
           "#EF553B",
           "#00cc96",
           "#ab63fa",
           "#FFA15A",
           "#19d3f3",
           "#FF6692",
           "#B6E880",
           "#FF97FF",
           "#FECB52"
          ],
          "font": {
           "color": "#2a3f5f"
          },
          "geo": {
           "bgcolor": "white",
           "lakecolor": "white",
           "landcolor": "#E5ECF6",
           "showlakes": true,
           "showland": true,
           "subunitcolor": "white"
          },
          "hoverlabel": {
           "align": "left"
          },
          "hovermode": "closest",
          "mapbox": {
           "style": "light"
          },
          "paper_bgcolor": "white",
          "plot_bgcolor": "#E5ECF6",
          "polar": {
           "angularaxis": {
            "gridcolor": "white",
            "linecolor": "white",
            "ticks": ""
           },
           "bgcolor": "#E5ECF6",
           "radialaxis": {
            "gridcolor": "white",
            "linecolor": "white",
            "ticks": ""
           }
          },
          "scene": {
           "xaxis": {
            "backgroundcolor": "#E5ECF6",
            "gridcolor": "white",
            "gridwidth": 2,
            "linecolor": "white",
            "showbackground": true,
            "ticks": "",
            "zerolinecolor": "white"
           },
           "yaxis": {
            "backgroundcolor": "#E5ECF6",
            "gridcolor": "white",
            "gridwidth": 2,
            "linecolor": "white",
            "showbackground": true,
            "ticks": "",
            "zerolinecolor": "white"
           },
           "zaxis": {
            "backgroundcolor": "#E5ECF6",
            "gridcolor": "white",
            "gridwidth": 2,
            "linecolor": "white",
            "showbackground": true,
            "ticks": "",
            "zerolinecolor": "white"
           }
          },
          "shapedefaults": {
           "line": {
            "color": "#2a3f5f"
           }
          },
          "ternary": {
           "aaxis": {
            "gridcolor": "white",
            "linecolor": "white",
            "ticks": ""
           },
           "baxis": {
            "gridcolor": "white",
            "linecolor": "white",
            "ticks": ""
           },
           "bgcolor": "#E5ECF6",
           "caxis": {
            "gridcolor": "white",
            "linecolor": "white",
            "ticks": ""
           }
          },
          "title": {
           "x": 0.05
          },
          "xaxis": {
           "automargin": true,
           "gridcolor": "white",
           "linecolor": "white",
           "ticks": "",
           "title": {
            "standoff": 15
           },
           "zerolinecolor": "white",
           "zerolinewidth": 2
          },
          "yaxis": {
           "automargin": true,
           "gridcolor": "white",
           "linecolor": "white",
           "ticks": "",
           "title": {
            "standoff": 15
           },
           "zerolinecolor": "white",
           "zerolinewidth": 2
          }
         }
        },
        "title": {
         "text": "Tendencia de los casos por día de la semana"
        },
        "xaxis": {
         "anchor": "y",
         "domain": [
          0,
          1
         ],
         "title": {
          "text": "Día de la semana"
         }
        },
        "yaxis": {
         "anchor": "x",
         "domain": [
          0,
          1
         ],
         "title": {
          "text": "Cantidad de casos"
         }
        }
       }
      }
     },
     "metadata": {},
     "output_type": "display_data"
    }
   ],
   "source": [
    "# Agrupar por mes\n",
    "df_mes = df.groupby('MES')['CANTIDAD'].sum().reindex([\n",
    "    'January', 'February', 'March', 'April', 'May', 'June', \n",
    "    'July', 'August', 'September', 'October', 'November', 'December'\n",
    "]).reset_index()\n",
    "\n",
    "# Agrupar por día de la semana\n",
    "df_dia = df.groupby('DIA')['CANTIDAD'].sum().reindex([\n",
    "    'Monday', 'Tuesday', 'Wednesday', 'Thursday', 'Friday', 'Saturday', 'Sunday'\n",
    "]).reset_index()\n",
    "\n",
    "# Monthly graph\n",
    "fig_mes = px.bar(\n",
    "    df_mes,\n",
    "    x='MES',\n",
    "    y='CANTIDAD',\n",
    "    title='Tendencia de los casos por mes',\n",
    "    labels={'CANTIDAD': 'Cantidad de casos', 'MES': 'Mes'},\n",
    "    text_auto=True\n",
    ")\n",
    "fig_mes.update_traces(marker_color='skyblue')\n",
    "fig_mes.show()\n",
    "fig_mes.write_html('graphics/month.html') \n",
    "\n",
    "\n",
    "# Day of the week graph \n",
    "fig_dia = px.bar(\n",
    "    df_dia,\n",
    "    x='DIA',\n",
    "    y='CANTIDAD',\n",
    "    title='Tendencia de los casos por día de la semana',\n",
    "    labels={'CANTIDAD': 'Cantidad de casos', 'DIA': 'Día de la semana'},\n",
    "    text_auto=True\n",
    ")\n",
    "fig_dia.update_traces(marker_color='lightgreen')\n",
    "fig_dia.show()\n",
    "fig_dia.write_html('graphics/day.html') "
   ]
  },
  {
   "cell_type": "markdown",
   "metadata": {},
   "source": [
    "##Seasonality effect\n",
    "\n",
    "####We review whether there are seasonal variance patterns present in the last 5 years, we verify the monthly variation compared between years to identify patterns."
   ]
  },
  {
   "cell_type": "code",
   "execution_count": 1162,
   "metadata": {},
   "outputs": [
    {
     "name": "stderr",
     "output_type": "stream",
     "text": [
      "C:\\Users\\ALEXANDER\\AppData\\Local\\Temp\\ipykernel_14676\\2666628154.py:7: SettingWithCopyWarning:\n",
      "\n",
      "\n",
      "A value is trying to be set on a copy of a slice from a DataFrame.\n",
      "Try using .loc[row_indexer,col_indexer] = value instead\n",
      "\n",
      "See the caveats in the documentation: https://pandas.pydata.org/pandas-docs/stable/user_guide/indexing.html#returning-a-view-versus-a-copy\n",
      "\n"
     ]
    },
    {
     "data": {
      "image/png": "[encoded data removed]",
      "text/plain": [
       "<Figure size 1200x800 with 1 Axes>"
      ]
     },
     "metadata": {},
     "output_type": "display_data"
    }
   ],
   "source": [
    "# We get the last 5 years\n",
    "año_max = df['FECHA HECHO'].dt.year.max()\n",
    "años_filtrados = list(range(año_max - 4, año_max + 1))\n",
    "df_filtrado = df[df['FECHA HECHO'].dt.year.isin(años_filtrados)]\n",
    "\n",
    "# year and month filtering to get total monthly cases\n",
    "df_filtrado['MES'] = df_filtrado['FECHA HECHO'].dt.month\n",
    "casos_mensuales = df_filtrado.groupby(['AÑO', 'MES'])['CANTIDAD'].sum().reset_index()\n",
    "\n",
    "# Calculus: monthly exchange rate\n",
    "casos_mensuales['TASA_CAMBIO'] = (casos_mensuales.groupby('AÑO')['CANTIDAD'].pct_change() * 100).round(2)\n",
    "\n",
    "# Graph\n",
    "plt.figure(figsize=(12, 8))\n",
    "for año in años_filtrados:\n",
    "    datos_año = casos_mensuales[casos_mensuales['AÑO'] == año]\n",
    "    plt.plot(datos_año['MES'], datos_año['TASA_CAMBIO'], marker='o', label=f'{año}', alpha=0.7)\n",
    "\n",
    "# Graph properties\n",
    "plt.title('Tasa de cambio mensual en casos de violencia intrafamiliar (Últimos 5 años)')\n",
    "plt.xlabel('Mes')\n",
    "plt.ylabel('Tasa de Cambio (%)')\n",
    "plt.xticks(range(1, 13), labels=meses)\n",
    "plt.axhline(0, color='gray', linestyle='--', linewidth=1) \n",
    "plt.legend(title=\"Año\")\n",
    "plt.grid(True, linestyle='--', alpha=0.7)\n",
    "\n",
    "plt.show()"
   ]
  }
 ],
 "metadata": {
  "kernelspec": {
   "display_name": "Python 3",
   "language": "python",
   "name": "python3"
  },
  "language_info": {
   "codemirror_mode": {
    "name": "ipython",
    "version": 3
   },
   "file_extension": ".py",
   "mimetype": "text/x-python",
   "name": "python",
   "nbconvert_exporter": "python",
   "pygments_lexer": "ipython3",
   "version": "3.13.0"
  }
 },
 "nbformat": 4,
 "nbformat_minor": 2
}
